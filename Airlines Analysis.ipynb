{
 "cells": [
  {
   "cell_type": "markdown",
   "id": "a0462b78",
   "metadata": {},
   "source": [
    "# AIRLINES ANALYSIS"
   ]
  },
  {
   "cell_type": "markdown",
   "id": "6dba4334",
   "metadata": {},
   "source": [
    "STEP 1 : IMPORT THE IMPORTANT LIBRARY WHICH WILL HELP IN ANALYSIS"
   ]
  },
  {
   "cell_type": "code",
   "execution_count": 1,
   "id": "3cf84ab8",
   "metadata": {},
   "outputs": [],
   "source": [
    "import numpy as np\n",
    "import pandas as pd\n",
    "import seaborn as sns\n",
    "import matplotlib.pyplot as plt\n",
    "import warnings\n",
    "warnings.filterwarnings(\"ignore\")\n",
    "import scipy.stats as st"
   ]
  },
  {
   "cell_type": "markdown",
   "id": "3c460586",
   "metadata": {},
   "source": [
    "STEP 2: LOAD THE AIRLINES EXCEL FILE IN PANDAS AND ALSO ASSIGN IT INTO VARIABLES SO THAT IT IS EASY TO ACCESS."
   ]
  },
  {
   "cell_type": "code",
   "execution_count": 2,
   "id": "84def222",
   "metadata": {},
   "outputs": [
    {
     "data": {
      "text/html": [
       "<div>\n",
       "<style scoped>\n",
       "    .dataframe tbody tr th:only-of-type {\n",
       "        vertical-align: middle;\n",
       "    }\n",
       "\n",
       "    .dataframe tbody tr th {\n",
       "        vertical-align: top;\n",
       "    }\n",
       "\n",
       "    .dataframe thead th {\n",
       "        text-align: right;\n",
       "    }\n",
       "</style>\n",
       "<table border=\"1\" class=\"dataframe\">\n",
       "  <thead>\n",
       "    <tr style=\"text-align: right;\">\n",
       "      <th></th>\n",
       "      <th>Airline</th>\n",
       "      <th>Date_of_Journey</th>\n",
       "      <th>Source</th>\n",
       "      <th>Destination</th>\n",
       "      <th>Route</th>\n",
       "      <th>Dep_Time</th>\n",
       "      <th>Arrival_Time</th>\n",
       "      <th>Duration</th>\n",
       "      <th>Total_Stops</th>\n",
       "      <th>Additional_Info</th>\n",
       "      <th>Price</th>\n",
       "    </tr>\n",
       "  </thead>\n",
       "  <tbody>\n",
       "    <tr>\n",
       "      <th>0</th>\n",
       "      <td>IndiGo</td>\n",
       "      <td>24/03/2019</td>\n",
       "      <td>Banglore</td>\n",
       "      <td>New Delhi</td>\n",
       "      <td>BLR → DEL</td>\n",
       "      <td>22:20</td>\n",
       "      <td>01:10 22 Mar</td>\n",
       "      <td>2h 50m</td>\n",
       "      <td>non-stop</td>\n",
       "      <td>No info</td>\n",
       "      <td>3897</td>\n",
       "    </tr>\n",
       "    <tr>\n",
       "      <th>1</th>\n",
       "      <td>Air India</td>\n",
       "      <td>1/05/2019</td>\n",
       "      <td>Kolkata</td>\n",
       "      <td>Banglore</td>\n",
       "      <td>CCU → IXR → BBI → BLR</td>\n",
       "      <td>05:50</td>\n",
       "      <td>13:15</td>\n",
       "      <td>7h 25m</td>\n",
       "      <td>2 stops</td>\n",
       "      <td>No info</td>\n",
       "      <td>7662</td>\n",
       "    </tr>\n",
       "  </tbody>\n",
       "</table>\n",
       "</div>"
      ],
      "text/plain": [
       "     Airline Date_of_Journey    Source Destination                  Route  \\\n",
       "0     IndiGo      24/03/2019  Banglore   New Delhi              BLR → DEL   \n",
       "1  Air India       1/05/2019   Kolkata    Banglore  CCU → IXR → BBI → BLR   \n",
       "\n",
       "  Dep_Time  Arrival_Time Duration Total_Stops Additional_Info  Price  \n",
       "0    22:20  01:10 22 Mar   2h 50m    non-stop         No info   3897  \n",
       "1    05:50         13:15   7h 25m     2 stops         No info   7662  "
      ]
     },
     "execution_count": 2,
     "metadata": {},
     "output_type": "execute_result"
    }
   ],
   "source": [
    "Airlines=pd.read_excel(\"C:\\\\Users\\\\user\\\\OneDrive\\\\Desktop\\\\madrid software\\\\MADRID CLASSES\\\\Data set\\\\Airlines data.xlsx\",engine=\"openpyxl\")\n",
    "Airlines.head(2)"
   ]
  },
  {
   "cell_type": "markdown",
   "id": "9ce8d77a",
   "metadata": {},
   "source": [
    "STEP 3: PASS THE BASIC QUERRY TO FILTER THE INFORMATION FROM THE DATASET."
   ]
  },
  {
   "cell_type": "code",
   "execution_count": 3,
   "id": "2e2c923c",
   "metadata": {},
   "outputs": [
    {
     "data": {
      "text/plain": [
       "(10683, 11)"
      ]
     },
     "execution_count": 3,
     "metadata": {},
     "output_type": "execute_result"
    }
   ],
   "source": [
    "Airlines.shape"
   ]
  },
  {
   "cell_type": "code",
   "execution_count": 4,
   "id": "145a4df4",
   "metadata": {},
   "outputs": [
    {
     "name": "stdout",
     "output_type": "stream",
     "text": [
      "<class 'pandas.core.frame.DataFrame'>\n",
      "RangeIndex: 10683 entries, 0 to 10682\n",
      "Data columns (total 11 columns):\n",
      " #   Column           Non-Null Count  Dtype \n",
      "---  ------           --------------  ----- \n",
      " 0   Airline          10683 non-null  object\n",
      " 1   Date_of_Journey  10683 non-null  object\n",
      " 2   Source           10683 non-null  object\n",
      " 3   Destination      10683 non-null  object\n",
      " 4   Route            10682 non-null  object\n",
      " 5   Dep_Time         10683 non-null  object\n",
      " 6   Arrival_Time     10683 non-null  object\n",
      " 7   Duration         10683 non-null  object\n",
      " 8   Total_Stops      10682 non-null  object\n",
      " 9   Additional_Info  10683 non-null  object\n",
      " 10  Price            10683 non-null  int64 \n",
      "dtypes: int64(1), object(10)\n",
      "memory usage: 918.2+ KB\n"
     ]
    }
   ],
   "source": [
    "Airlines.info()"
   ]
  },
  {
   "cell_type": "code",
   "execution_count": 5,
   "id": "36ad0077",
   "metadata": {},
   "outputs": [
    {
     "data": {
      "text/plain": [
       "Index(['Airline', 'Date_of_Journey', 'Source', 'Destination', 'Route',\n",
       "       'Dep_Time', 'Arrival_Time', 'Duration', 'Total_Stops',\n",
       "       'Additional_Info', 'Price'],\n",
       "      dtype='object')"
      ]
     },
     "execution_count": 5,
     "metadata": {},
     "output_type": "execute_result"
    }
   ],
   "source": [
    "Airlines.columns"
   ]
  },
  {
   "cell_type": "code",
   "execution_count": 6,
   "id": "67315e9f",
   "metadata": {},
   "outputs": [
    {
     "data": {
      "text/plain": [
       "[Airline            object\n",
       " Date_of_Journey    object\n",
       " Source             object\n",
       " Destination        object\n",
       " Route              object\n",
       " Dep_Time           object\n",
       " Arrival_Time       object\n",
       " Duration           object\n",
       " Total_Stops        object\n",
       " Additional_Info    object\n",
       " Price               int64\n",
       " dtype: object]"
      ]
     },
     "execution_count": 6,
     "metadata": {},
     "output_type": "execute_result"
    }
   ],
   "source": [
    "[Airlines.dtypes]"
   ]
  },
  {
   "cell_type": "code",
   "execution_count": 7,
   "id": "153dacb0",
   "metadata": {},
   "outputs": [
    {
     "data": {
      "text/html": [
       "<div>\n",
       "<style scoped>\n",
       "    .dataframe tbody tr th:only-of-type {\n",
       "        vertical-align: middle;\n",
       "    }\n",
       "\n",
       "    .dataframe tbody tr th {\n",
       "        vertical-align: top;\n",
       "    }\n",
       "\n",
       "    .dataframe thead th {\n",
       "        text-align: right;\n",
       "    }\n",
       "</style>\n",
       "<table border=\"1\" class=\"dataframe\">\n",
       "  <thead>\n",
       "    <tr style=\"text-align: right;\">\n",
       "      <th></th>\n",
       "      <th>count</th>\n",
       "      <th>unique</th>\n",
       "      <th>top</th>\n",
       "      <th>freq</th>\n",
       "    </tr>\n",
       "  </thead>\n",
       "  <tbody>\n",
       "    <tr>\n",
       "      <th>Airline</th>\n",
       "      <td>10683</td>\n",
       "      <td>12</td>\n",
       "      <td>Jet Airways</td>\n",
       "      <td>3849</td>\n",
       "    </tr>\n",
       "    <tr>\n",
       "      <th>Date_of_Journey</th>\n",
       "      <td>10683</td>\n",
       "      <td>44</td>\n",
       "      <td>18/05/2019</td>\n",
       "      <td>504</td>\n",
       "    </tr>\n",
       "    <tr>\n",
       "      <th>Source</th>\n",
       "      <td>10683</td>\n",
       "      <td>5</td>\n",
       "      <td>Delhi</td>\n",
       "      <td>4537</td>\n",
       "    </tr>\n",
       "    <tr>\n",
       "      <th>Destination</th>\n",
       "      <td>10683</td>\n",
       "      <td>6</td>\n",
       "      <td>Cochin</td>\n",
       "      <td>4537</td>\n",
       "    </tr>\n",
       "    <tr>\n",
       "      <th>Route</th>\n",
       "      <td>10682</td>\n",
       "      <td>128</td>\n",
       "      <td>DEL → BOM → COK</td>\n",
       "      <td>2376</td>\n",
       "    </tr>\n",
       "    <tr>\n",
       "      <th>Dep_Time</th>\n",
       "      <td>10683</td>\n",
       "      <td>222</td>\n",
       "      <td>18:55</td>\n",
       "      <td>233</td>\n",
       "    </tr>\n",
       "    <tr>\n",
       "      <th>Arrival_Time</th>\n",
       "      <td>10683</td>\n",
       "      <td>1343</td>\n",
       "      <td>19:00</td>\n",
       "      <td>423</td>\n",
       "    </tr>\n",
       "    <tr>\n",
       "      <th>Duration</th>\n",
       "      <td>10683</td>\n",
       "      <td>368</td>\n",
       "      <td>2h 50m</td>\n",
       "      <td>550</td>\n",
       "    </tr>\n",
       "    <tr>\n",
       "      <th>Total_Stops</th>\n",
       "      <td>10682</td>\n",
       "      <td>5</td>\n",
       "      <td>1 stop</td>\n",
       "      <td>5625</td>\n",
       "    </tr>\n",
       "    <tr>\n",
       "      <th>Additional_Info</th>\n",
       "      <td>10683</td>\n",
       "      <td>10</td>\n",
       "      <td>No info</td>\n",
       "      <td>8345</td>\n",
       "    </tr>\n",
       "  </tbody>\n",
       "</table>\n",
       "</div>"
      ],
      "text/plain": [
       "                 count unique              top  freq\n",
       "Airline          10683     12      Jet Airways  3849\n",
       "Date_of_Journey  10683     44       18/05/2019   504\n",
       "Source           10683      5            Delhi  4537\n",
       "Destination      10683      6           Cochin  4537\n",
       "Route            10682    128  DEL → BOM → COK  2376\n",
       "Dep_Time         10683    222            18:55   233\n",
       "Arrival_Time     10683   1343            19:00   423\n",
       "Duration         10683    368           2h 50m   550\n",
       "Total_Stops      10682      5           1 stop  5625\n",
       "Additional_Info  10683     10          No info  8345"
      ]
     },
     "execution_count": 7,
     "metadata": {},
     "output_type": "execute_result"
    }
   ],
   "source": [
    "Airlines.describe(include=\"object\").T"
   ]
  },
  {
   "cell_type": "markdown",
   "id": "d8902a9a",
   "metadata": {},
   "source": [
    "Now findout is there any null value in any column or row?"
   ]
  },
  {
   "cell_type": "code",
   "execution_count": 8,
   "id": "a052558c",
   "metadata": {},
   "outputs": [
    {
     "data": {
      "text/plain": [
       "Airline            0\n",
       "Date_of_Journey    0\n",
       "Source             0\n",
       "Destination        0\n",
       "Route              1\n",
       "Dep_Time           0\n",
       "Arrival_Time       0\n",
       "Duration           0\n",
       "Total_Stops        1\n",
       "Additional_Info    0\n",
       "Price              0\n",
       "dtype: int64"
      ]
     },
     "execution_count": 8,
     "metadata": {},
     "output_type": "execute_result"
    }
   ],
   "source": [
    "Airlines.isna().sum()"
   ]
  },
  {
   "cell_type": "code",
   "execution_count": 9,
   "id": "bf13170c",
   "metadata": {},
   "outputs": [],
   "source": [
    "Airlines.Total_Stops.fillna(Airlines.Total_Stops.mode()[0],inplace=True)"
   ]
  },
  {
   "cell_type": "code",
   "execution_count": 10,
   "id": "49f657a1",
   "metadata": {},
   "outputs": [],
   "source": [
    "Airlines.Route.fillna(Airlines.Route.mode()[0], inplace=True)"
   ]
  },
  {
   "cell_type": "code",
   "execution_count": 11,
   "id": "fd0e2da0",
   "metadata": {},
   "outputs": [
    {
     "data": {
      "text/plain": [
       "Airline            0\n",
       "Date_of_Journey    0\n",
       "Source             0\n",
       "Destination        0\n",
       "Route              0\n",
       "Dep_Time           0\n",
       "Arrival_Time       0\n",
       "Duration           0\n",
       "Total_Stops        0\n",
       "Additional_Info    0\n",
       "Price              0\n",
       "dtype: int64"
      ]
     },
     "execution_count": 11,
     "metadata": {},
     "output_type": "execute_result"
    }
   ],
   "source": [
    "Airlines.isna().sum()"
   ]
  },
  {
   "cell_type": "markdown",
   "id": "d34cbb93",
   "metadata": {},
   "source": [
    "From the above enquiry we can conclude, we donot have any null value. Now we can proceed to Analysis. "
   ]
  },
  {
   "cell_type": "markdown",
   "id": "d68200c6",
   "metadata": {},
   "source": [
    "# ANALYSIS OF AIRLINES DATASET :"
   ]
  },
  {
   "cell_type": "code",
   "execution_count": 12,
   "id": "b17bb269",
   "metadata": {},
   "outputs": [
    {
     "data": {
      "text/html": [
       "<div>\n",
       "<style scoped>\n",
       "    .dataframe tbody tr th:only-of-type {\n",
       "        vertical-align: middle;\n",
       "    }\n",
       "\n",
       "    .dataframe tbody tr th {\n",
       "        vertical-align: top;\n",
       "    }\n",
       "\n",
       "    .dataframe thead th {\n",
       "        text-align: right;\n",
       "    }\n",
       "</style>\n",
       "<table border=\"1\" class=\"dataframe\">\n",
       "  <thead>\n",
       "    <tr style=\"text-align: right;\">\n",
       "      <th></th>\n",
       "      <th>Airline</th>\n",
       "      <th>Date_of_Journey</th>\n",
       "      <th>Source</th>\n",
       "      <th>Destination</th>\n",
       "      <th>Route</th>\n",
       "      <th>Dep_Time</th>\n",
       "      <th>Arrival_Time</th>\n",
       "      <th>Duration</th>\n",
       "      <th>Total_Stops</th>\n",
       "      <th>Additional_Info</th>\n",
       "      <th>Price</th>\n",
       "    </tr>\n",
       "  </thead>\n",
       "  <tbody>\n",
       "    <tr>\n",
       "      <th>0</th>\n",
       "      <td>IndiGo</td>\n",
       "      <td>24/03/2019</td>\n",
       "      <td>Banglore</td>\n",
       "      <td>New Delhi</td>\n",
       "      <td>BLR → DEL</td>\n",
       "      <td>22:20</td>\n",
       "      <td>01:10 22 Mar</td>\n",
       "      <td>2h 50m</td>\n",
       "      <td>non-stop</td>\n",
       "      <td>No info</td>\n",
       "      <td>3897</td>\n",
       "    </tr>\n",
       "    <tr>\n",
       "      <th>1</th>\n",
       "      <td>Air India</td>\n",
       "      <td>1/05/2019</td>\n",
       "      <td>Kolkata</td>\n",
       "      <td>Banglore</td>\n",
       "      <td>CCU → IXR → BBI → BLR</td>\n",
       "      <td>05:50</td>\n",
       "      <td>13:15</td>\n",
       "      <td>7h 25m</td>\n",
       "      <td>2 stops</td>\n",
       "      <td>No info</td>\n",
       "      <td>7662</td>\n",
       "    </tr>\n",
       "    <tr>\n",
       "      <th>2</th>\n",
       "      <td>Jet Airways</td>\n",
       "      <td>9/06/2019</td>\n",
       "      <td>Delhi</td>\n",
       "      <td>Cochin</td>\n",
       "      <td>DEL → LKO → BOM → COK</td>\n",
       "      <td>09:25</td>\n",
       "      <td>04:25 10 Jun</td>\n",
       "      <td>19h</td>\n",
       "      <td>2 stops</td>\n",
       "      <td>No info</td>\n",
       "      <td>13882</td>\n",
       "    </tr>\n",
       "    <tr>\n",
       "      <th>3</th>\n",
       "      <td>IndiGo</td>\n",
       "      <td>12/05/2019</td>\n",
       "      <td>Kolkata</td>\n",
       "      <td>Banglore</td>\n",
       "      <td>CCU → NAG → BLR</td>\n",
       "      <td>18:05</td>\n",
       "      <td>23:30</td>\n",
       "      <td>5h 25m</td>\n",
       "      <td>1 stop</td>\n",
       "      <td>No info</td>\n",
       "      <td>6218</td>\n",
       "    </tr>\n",
       "    <tr>\n",
       "      <th>4</th>\n",
       "      <td>IndiGo</td>\n",
       "      <td>01/03/2019</td>\n",
       "      <td>Banglore</td>\n",
       "      <td>New Delhi</td>\n",
       "      <td>BLR → NAG → DEL</td>\n",
       "      <td>16:50</td>\n",
       "      <td>21:35</td>\n",
       "      <td>4h 45m</td>\n",
       "      <td>1 stop</td>\n",
       "      <td>No info</td>\n",
       "      <td>13302</td>\n",
       "    </tr>\n",
       "  </tbody>\n",
       "</table>\n",
       "</div>"
      ],
      "text/plain": [
       "       Airline Date_of_Journey    Source Destination                  Route  \\\n",
       "0       IndiGo      24/03/2019  Banglore   New Delhi              BLR → DEL   \n",
       "1    Air India       1/05/2019   Kolkata    Banglore  CCU → IXR → BBI → BLR   \n",
       "2  Jet Airways       9/06/2019     Delhi      Cochin  DEL → LKO → BOM → COK   \n",
       "3       IndiGo      12/05/2019   Kolkata    Banglore        CCU → NAG → BLR   \n",
       "4       IndiGo      01/03/2019  Banglore   New Delhi        BLR → NAG → DEL   \n",
       "\n",
       "  Dep_Time  Arrival_Time Duration Total_Stops Additional_Info  Price  \n",
       "0    22:20  01:10 22 Mar   2h 50m    non-stop         No info   3897  \n",
       "1    05:50         13:15   7h 25m     2 stops         No info   7662  \n",
       "2    09:25  04:25 10 Jun      19h     2 stops         No info  13882  \n",
       "3    18:05         23:30   5h 25m      1 stop         No info   6218  \n",
       "4    16:50         21:35   4h 45m      1 stop         No info  13302  "
      ]
     },
     "execution_count": 12,
     "metadata": {},
     "output_type": "execute_result"
    }
   ],
   "source": [
    "Airlines.head(5)"
   ]
  },
  {
   "cell_type": "markdown",
   "id": "598e0aa7",
   "metadata": {},
   "source": [
    "# Now from the above table we can compute that the index is not done required in terms of serial number so we can make date of Journey column as our index and also sort them accordingly to get proper outlook of the data."
   ]
  },
  {
   "cell_type": "code",
   "execution_count": 13,
   "id": "1013bbad",
   "metadata": {},
   "outputs": [],
   "source": [
    "Airlines.set_index(Airlines[\"Date_of_Journey\"],inplace=True)\n",
    "Airlines.drop(columns=['Date_of_Journey'],inplace=True)"
   ]
  },
  {
   "cell_type": "code",
   "execution_count": 14,
   "id": "674114f1",
   "metadata": {},
   "outputs": [
    {
     "data": {
      "text/html": [
       "<div>\n",
       "<style scoped>\n",
       "    .dataframe tbody tr th:only-of-type {\n",
       "        vertical-align: middle;\n",
       "    }\n",
       "\n",
       "    .dataframe tbody tr th {\n",
       "        vertical-align: top;\n",
       "    }\n",
       "\n",
       "    .dataframe thead th {\n",
       "        text-align: right;\n",
       "    }\n",
       "</style>\n",
       "<table border=\"1\" class=\"dataframe\">\n",
       "  <thead>\n",
       "    <tr style=\"text-align: right;\">\n",
       "      <th></th>\n",
       "      <th>Airline</th>\n",
       "      <th>Source</th>\n",
       "      <th>Destination</th>\n",
       "      <th>Route</th>\n",
       "      <th>Dep_Time</th>\n",
       "      <th>Arrival_Time</th>\n",
       "      <th>Duration</th>\n",
       "      <th>Total_Stops</th>\n",
       "      <th>Additional_Info</th>\n",
       "      <th>Price</th>\n",
       "    </tr>\n",
       "    <tr>\n",
       "      <th>Date_of_Journey</th>\n",
       "      <th></th>\n",
       "      <th></th>\n",
       "      <th></th>\n",
       "      <th></th>\n",
       "      <th></th>\n",
       "      <th></th>\n",
       "      <th></th>\n",
       "      <th></th>\n",
       "      <th></th>\n",
       "      <th></th>\n",
       "    </tr>\n",
       "  </thead>\n",
       "  <tbody>\n",
       "    <tr>\n",
       "      <th>01/03/2019</th>\n",
       "      <td>Air India</td>\n",
       "      <td>Banglore</td>\n",
       "      <td>New Delhi</td>\n",
       "      <td>BLR → BOM → AMD → DEL</td>\n",
       "      <td>08:50</td>\n",
       "      <td>23:55 02 Mar</td>\n",
       "      <td>39h 5m</td>\n",
       "      <td>2 stops</td>\n",
       "      <td>No info</td>\n",
       "      <td>17135</td>\n",
       "    </tr>\n",
       "    <tr>\n",
       "      <th>01/03/2019</th>\n",
       "      <td>Air India</td>\n",
       "      <td>Banglore</td>\n",
       "      <td>New Delhi</td>\n",
       "      <td>BLR → MAA → DEL</td>\n",
       "      <td>11:50</td>\n",
       "      <td>08:55 02 Mar</td>\n",
       "      <td>21h 5m</td>\n",
       "      <td>1 stop</td>\n",
       "      <td>1 Long layover</td>\n",
       "      <td>14594</td>\n",
       "    </tr>\n",
       "    <tr>\n",
       "      <th>01/03/2019</th>\n",
       "      <td>Jet Airways</td>\n",
       "      <td>Banglore</td>\n",
       "      <td>New Delhi</td>\n",
       "      <td>BLR → BOM → DEL</td>\n",
       "      <td>14:05</td>\n",
       "      <td>07:40 02 Mar</td>\n",
       "      <td>17h 35m</td>\n",
       "      <td>1 stop</td>\n",
       "      <td>1 Long layover</td>\n",
       "      <td>22270</td>\n",
       "    </tr>\n",
       "    <tr>\n",
       "      <th>01/03/2019</th>\n",
       "      <td>Jet Airways</td>\n",
       "      <td>Banglore</td>\n",
       "      <td>New Delhi</td>\n",
       "      <td>BLR → BOM → DEL</td>\n",
       "      <td>07:00</td>\n",
       "      <td>05:05 02 Mar</td>\n",
       "      <td>22h 5m</td>\n",
       "      <td>1 stop</td>\n",
       "      <td>No info</td>\n",
       "      <td>26890</td>\n",
       "    </tr>\n",
       "    <tr>\n",
       "      <th>01/03/2019</th>\n",
       "      <td>IndiGo</td>\n",
       "      <td>Banglore</td>\n",
       "      <td>New Delhi</td>\n",
       "      <td>BLR → DEL</td>\n",
       "      <td>18:25</td>\n",
       "      <td>21:20</td>\n",
       "      <td>2h 55m</td>\n",
       "      <td>non-stop</td>\n",
       "      <td>No info</td>\n",
       "      <td>12649</td>\n",
       "    </tr>\n",
       "    <tr>\n",
       "      <th>...</th>\n",
       "      <td>...</td>\n",
       "      <td>...</td>\n",
       "      <td>...</td>\n",
       "      <td>...</td>\n",
       "      <td>...</td>\n",
       "      <td>...</td>\n",
       "      <td>...</td>\n",
       "      <td>...</td>\n",
       "      <td>...</td>\n",
       "      <td>...</td>\n",
       "    </tr>\n",
       "    <tr>\n",
       "      <th>9/06/2019</th>\n",
       "      <td>Jet Airways</td>\n",
       "      <td>Kolkata</td>\n",
       "      <td>Banglore</td>\n",
       "      <td>CCU → DEL → BLR</td>\n",
       "      <td>09:35</td>\n",
       "      <td>22:05</td>\n",
       "      <td>12h 30m</td>\n",
       "      <td>1 stop</td>\n",
       "      <td>No info</td>\n",
       "      <td>14676</td>\n",
       "    </tr>\n",
       "    <tr>\n",
       "      <th>9/06/2019</th>\n",
       "      <td>Jet Airways</td>\n",
       "      <td>Kolkata</td>\n",
       "      <td>Banglore</td>\n",
       "      <td>CCU → DEL → BLR</td>\n",
       "      <td>20:25</td>\n",
       "      <td>21:05 10 Jun</td>\n",
       "      <td>24h 40m</td>\n",
       "      <td>1 stop</td>\n",
       "      <td>In-flight meal not included</td>\n",
       "      <td>10539</td>\n",
       "    </tr>\n",
       "    <tr>\n",
       "      <th>9/06/2019</th>\n",
       "      <td>Vistara</td>\n",
       "      <td>Kolkata</td>\n",
       "      <td>Banglore</td>\n",
       "      <td>CCU → DEL → BLR</td>\n",
       "      <td>20:20</td>\n",
       "      <td>23:25 10 Jun</td>\n",
       "      <td>27h 5m</td>\n",
       "      <td>1 stop</td>\n",
       "      <td>No info</td>\n",
       "      <td>8085</td>\n",
       "    </tr>\n",
       "    <tr>\n",
       "      <th>9/06/2019</th>\n",
       "      <td>GoAir</td>\n",
       "      <td>Banglore</td>\n",
       "      <td>Delhi</td>\n",
       "      <td>BLR → DEL</td>\n",
       "      <td>07:45</td>\n",
       "      <td>10:40</td>\n",
       "      <td>2h 55m</td>\n",
       "      <td>non-stop</td>\n",
       "      <td>No info</td>\n",
       "      <td>3898</td>\n",
       "    </tr>\n",
       "    <tr>\n",
       "      <th>9/06/2019</th>\n",
       "      <td>Air India</td>\n",
       "      <td>Delhi</td>\n",
       "      <td>Cochin</td>\n",
       "      <td>DEL → HYD → MAA → COK</td>\n",
       "      <td>09:45</td>\n",
       "      <td>09:25 10 Jun</td>\n",
       "      <td>23h 40m</td>\n",
       "      <td>2 stops</td>\n",
       "      <td>No info</td>\n",
       "      <td>11185</td>\n",
       "    </tr>\n",
       "  </tbody>\n",
       "</table>\n",
       "<p>10683 rows × 10 columns</p>\n",
       "</div>"
      ],
      "text/plain": [
       "                     Airline    Source Destination                  Route  \\\n",
       "Date_of_Journey                                                             \n",
       "01/03/2019         Air India  Banglore   New Delhi  BLR → BOM → AMD → DEL   \n",
       "01/03/2019         Air India  Banglore   New Delhi        BLR → MAA → DEL   \n",
       "01/03/2019       Jet Airways  Banglore   New Delhi        BLR → BOM → DEL   \n",
       "01/03/2019       Jet Airways  Banglore   New Delhi        BLR → BOM → DEL   \n",
       "01/03/2019            IndiGo  Banglore   New Delhi              BLR → DEL   \n",
       "...                      ...       ...         ...                    ...   \n",
       "9/06/2019        Jet Airways   Kolkata    Banglore        CCU → DEL → BLR   \n",
       "9/06/2019        Jet Airways   Kolkata    Banglore        CCU → DEL → BLR   \n",
       "9/06/2019            Vistara   Kolkata    Banglore        CCU → DEL → BLR   \n",
       "9/06/2019              GoAir  Banglore       Delhi              BLR → DEL   \n",
       "9/06/2019          Air India     Delhi      Cochin  DEL → HYD → MAA → COK   \n",
       "\n",
       "                Dep_Time  Arrival_Time Duration Total_Stops  \\\n",
       "Date_of_Journey                                               \n",
       "01/03/2019         08:50  23:55 02 Mar   39h 5m     2 stops   \n",
       "01/03/2019         11:50  08:55 02 Mar   21h 5m      1 stop   \n",
       "01/03/2019         14:05  07:40 02 Mar  17h 35m      1 stop   \n",
       "01/03/2019         07:00  05:05 02 Mar   22h 5m      1 stop   \n",
       "01/03/2019         18:25         21:20   2h 55m    non-stop   \n",
       "...                  ...           ...      ...         ...   \n",
       "9/06/2019          09:35         22:05  12h 30m      1 stop   \n",
       "9/06/2019          20:25  21:05 10 Jun  24h 40m      1 stop   \n",
       "9/06/2019          20:20  23:25 10 Jun   27h 5m      1 stop   \n",
       "9/06/2019          07:45         10:40   2h 55m    non-stop   \n",
       "9/06/2019          09:45  09:25 10 Jun  23h 40m     2 stops   \n",
       "\n",
       "                             Additional_Info  Price  \n",
       "Date_of_Journey                                      \n",
       "01/03/2019                           No info  17135  \n",
       "01/03/2019                    1 Long layover  14594  \n",
       "01/03/2019                    1 Long layover  22270  \n",
       "01/03/2019                           No info  26890  \n",
       "01/03/2019                           No info  12649  \n",
       "...                                      ...    ...  \n",
       "9/06/2019                            No info  14676  \n",
       "9/06/2019        In-flight meal not included  10539  \n",
       "9/06/2019                            No info   8085  \n",
       "9/06/2019                            No info   3898  \n",
       "9/06/2019                            No info  11185  \n",
       "\n",
       "[10683 rows x 10 columns]"
      ]
     },
     "execution_count": 14,
     "metadata": {},
     "output_type": "execute_result"
    }
   ],
   "source": [
    "Airlines.sort_values(\"Date_of_Journey\")\n"
   ]
  },
  {
   "cell_type": "markdown",
   "id": "4cd44707",
   "metadata": {},
   "source": [
    "# SOME OF THE INSIGHTS FOR AIRLINES DATASETS"
   ]
  },
  {
   "cell_type": "markdown",
   "id": "0288d17b",
   "metadata": {},
   "source": [
    "# INSIGHT-1: From the above data findout the unique value in the date of Journey column?"
   ]
  },
  {
   "cell_type": "code",
   "execution_count": 17,
   "id": "ffec11f3",
   "metadata": {},
   "outputs": [
    {
     "data": {
      "text/plain": [
       "array(['24/03/2019', '1/05/2019', '9/06/2019', '12/05/2019', '01/03/2019',\n",
       "       '24/06/2019', '12/03/2019', '27/05/2019', '1/06/2019',\n",
       "       '18/04/2019', '9/05/2019', '24/04/2019', '3/03/2019', '15/04/2019',\n",
       "       '12/06/2019', '6/03/2019', '21/03/2019', '3/04/2019', '6/05/2019',\n",
       "       '15/05/2019', '18/06/2019', '15/06/2019', '6/04/2019',\n",
       "       '18/05/2019', '27/06/2019', '21/05/2019', '06/03/2019',\n",
       "       '3/06/2019', '15/03/2019', '3/05/2019', '9/03/2019', '6/06/2019',\n",
       "       '24/05/2019', '09/03/2019', '1/04/2019', '21/04/2019',\n",
       "       '21/06/2019', '27/03/2019', '18/03/2019', '12/04/2019',\n",
       "       '9/04/2019', '1/03/2019', '03/03/2019', '27/04/2019'], dtype=object)"
      ]
     },
     "execution_count": 17,
     "metadata": {},
     "output_type": "execute_result"
    }
   ],
   "source": [
    "Airlines[\"Date_of_Journey\"].unique()"
   ]
  },
  {
   "cell_type": "markdown",
   "id": "17518260",
   "metadata": {},
   "source": [
    "# From the data we can conclude that the data is of same year i.e 2019, so we can seperate the day and month to make the data more effective."
   ]
  },
  {
   "cell_type": "code",
   "execution_count": 18,
   "id": "2da94a9c",
   "metadata": {},
   "outputs": [],
   "source": [
    "Airlines['day']=pd.to_datetime(Airlines['Date_of_Journey']).dt.day\n",
    "Airlines['month']=pd.to_datetime(Airlines['Date_of_Journey']).dt.month\n",
    "Airlines.drop(columns=['Date_of_Journey'],inplace=True)"
   ]
  },
  {
   "cell_type": "code",
   "execution_count": 19,
   "id": "44fcffa6",
   "metadata": {},
   "outputs": [
    {
     "data": {
      "text/html": [
       "<div>\n",
       "<style scoped>\n",
       "    .dataframe tbody tr th:only-of-type {\n",
       "        vertical-align: middle;\n",
       "    }\n",
       "\n",
       "    .dataframe tbody tr th {\n",
       "        vertical-align: top;\n",
       "    }\n",
       "\n",
       "    .dataframe thead th {\n",
       "        text-align: right;\n",
       "    }\n",
       "</style>\n",
       "<table border=\"1\" class=\"dataframe\">\n",
       "  <thead>\n",
       "    <tr style=\"text-align: right;\">\n",
       "      <th></th>\n",
       "      <th>Airline</th>\n",
       "      <th>Source</th>\n",
       "      <th>Destination</th>\n",
       "      <th>Route</th>\n",
       "      <th>Dep_Time</th>\n",
       "      <th>Arrival_Time</th>\n",
       "      <th>Duration</th>\n",
       "      <th>Total_Stops</th>\n",
       "      <th>Additional_Info</th>\n",
       "      <th>Price</th>\n",
       "      <th>day</th>\n",
       "      <th>month</th>\n",
       "    </tr>\n",
       "  </thead>\n",
       "  <tbody>\n",
       "    <tr>\n",
       "      <th>0</th>\n",
       "      <td>IndiGo</td>\n",
       "      <td>Banglore</td>\n",
       "      <td>New Delhi</td>\n",
       "      <td>BLR → DEL</td>\n",
       "      <td>22:20</td>\n",
       "      <td>01:10 22 Mar</td>\n",
       "      <td>2h 50m</td>\n",
       "      <td>non-stop</td>\n",
       "      <td>No info</td>\n",
       "      <td>3897</td>\n",
       "      <td>24</td>\n",
       "      <td>3</td>\n",
       "    </tr>\n",
       "    <tr>\n",
       "      <th>1</th>\n",
       "      <td>Air India</td>\n",
       "      <td>Kolkata</td>\n",
       "      <td>Banglore</td>\n",
       "      <td>CCU → IXR → BBI → BLR</td>\n",
       "      <td>05:50</td>\n",
       "      <td>13:15</td>\n",
       "      <td>7h 25m</td>\n",
       "      <td>2 stops</td>\n",
       "      <td>No info</td>\n",
       "      <td>7662</td>\n",
       "      <td>5</td>\n",
       "      <td>1</td>\n",
       "    </tr>\n",
       "  </tbody>\n",
       "</table>\n",
       "</div>"
      ],
      "text/plain": [
       "     Airline    Source Destination                  Route Dep_Time  \\\n",
       "0     IndiGo  Banglore   New Delhi              BLR → DEL    22:20   \n",
       "1  Air India   Kolkata    Banglore  CCU → IXR → BBI → BLR    05:50   \n",
       "\n",
       "   Arrival_Time Duration Total_Stops Additional_Info  Price  day  month  \n",
       "0  01:10 22 Mar   2h 50m    non-stop         No info   3897   24      3  \n",
       "1         13:15   7h 25m     2 stops         No info   7662    5      1  "
      ]
     },
     "execution_count": 19,
     "metadata": {},
     "output_type": "execute_result"
    }
   ],
   "source": [
    "Airlines.head(2)"
   ]
  },
  {
   "cell_type": "markdown",
   "id": "32cd5c47",
   "metadata": {},
   "source": [
    "# INSIGHT 2: From the above data we can also conclude that there are some columns where New Delhi is written so we can change it to Delhi."
   ]
  },
  {
   "cell_type": "code",
   "execution_count": 20,
   "id": "993bf3b7",
   "metadata": {},
   "outputs": [
    {
     "data": {
      "text/html": [
       "<div>\n",
       "<style scoped>\n",
       "    .dataframe tbody tr th:only-of-type {\n",
       "        vertical-align: middle;\n",
       "    }\n",
       "\n",
       "    .dataframe tbody tr th {\n",
       "        vertical-align: top;\n",
       "    }\n",
       "\n",
       "    .dataframe thead th {\n",
       "        text-align: right;\n",
       "    }\n",
       "</style>\n",
       "<table border=\"1\" class=\"dataframe\">\n",
       "  <thead>\n",
       "    <tr style=\"text-align: right;\">\n",
       "      <th></th>\n",
       "      <th>Airline</th>\n",
       "      <th>Source</th>\n",
       "      <th>Destination</th>\n",
       "      <th>Route</th>\n",
       "      <th>Dep_Time</th>\n",
       "      <th>Arrival_Time</th>\n",
       "      <th>Duration</th>\n",
       "      <th>Total_Stops</th>\n",
       "      <th>Additional_Info</th>\n",
       "      <th>Price</th>\n",
       "      <th>day</th>\n",
       "      <th>month</th>\n",
       "    </tr>\n",
       "  </thead>\n",
       "  <tbody>\n",
       "    <tr>\n",
       "      <th>0</th>\n",
       "      <td>IndiGo</td>\n",
       "      <td>Banglore</td>\n",
       "      <td>Delhi</td>\n",
       "      <td>BLR → DEL</td>\n",
       "      <td>22:20</td>\n",
       "      <td>01:10 22 Mar</td>\n",
       "      <td>2h 50m</td>\n",
       "      <td>non-stop</td>\n",
       "      <td>No info</td>\n",
       "      <td>3897</td>\n",
       "      <td>24</td>\n",
       "      <td>3</td>\n",
       "    </tr>\n",
       "    <tr>\n",
       "      <th>1</th>\n",
       "      <td>Air India</td>\n",
       "      <td>Kolkata</td>\n",
       "      <td>Banglore</td>\n",
       "      <td>CCU → IXR → BBI → BLR</td>\n",
       "      <td>05:50</td>\n",
       "      <td>13:15</td>\n",
       "      <td>7h 25m</td>\n",
       "      <td>2 stops</td>\n",
       "      <td>No info</td>\n",
       "      <td>7662</td>\n",
       "      <td>5</td>\n",
       "      <td>1</td>\n",
       "    </tr>\n",
       "  </tbody>\n",
       "</table>\n",
       "</div>"
      ],
      "text/plain": [
       "     Airline    Source Destination                  Route Dep_Time  \\\n",
       "0     IndiGo  Banglore       Delhi              BLR → DEL    22:20   \n",
       "1  Air India   Kolkata    Banglore  CCU → IXR → BBI → BLR    05:50   \n",
       "\n",
       "   Arrival_Time Duration Total_Stops Additional_Info  Price  day  month  \n",
       "0  01:10 22 Mar   2h 50m    non-stop         No info   3897   24      3  \n",
       "1         13:15   7h 25m     2 stops         No info   7662    5      1  "
      ]
     },
     "execution_count": 20,
     "metadata": {},
     "output_type": "execute_result"
    }
   ],
   "source": [
    "Airlines[\"Destination\"]=Airlines[\"Destination\"].replace({\"New Delhi\":\"Delhi\"})\n",
    "Airlines.head(2)"
   ]
  },
  {
   "cell_type": "markdown",
   "id": "857587bd",
   "metadata": {},
   "source": [
    "# INSIGHT 3: From the above table instead of taking two column of Source and Destination we could make the column of Source to Destination?"
   ]
  },
  {
   "cell_type": "code",
   "execution_count": 21,
   "id": "97a84f3a",
   "metadata": {},
   "outputs": [
    {
     "data": {
      "text/html": [
       "<div>\n",
       "<style scoped>\n",
       "    .dataframe tbody tr th:only-of-type {\n",
       "        vertical-align: middle;\n",
       "    }\n",
       "\n",
       "    .dataframe tbody tr th {\n",
       "        vertical-align: top;\n",
       "    }\n",
       "\n",
       "    .dataframe thead th {\n",
       "        text-align: right;\n",
       "    }\n",
       "</style>\n",
       "<table border=\"1\" class=\"dataframe\">\n",
       "  <thead>\n",
       "    <tr style=\"text-align: right;\">\n",
       "      <th></th>\n",
       "      <th>Airline</th>\n",
       "      <th>Source</th>\n",
       "      <th>Destination</th>\n",
       "      <th>Route</th>\n",
       "      <th>Dep_Time</th>\n",
       "      <th>Arrival_Time</th>\n",
       "      <th>Duration</th>\n",
       "      <th>Total_Stops</th>\n",
       "      <th>Additional_Info</th>\n",
       "      <th>Price</th>\n",
       "      <th>day</th>\n",
       "      <th>month</th>\n",
       "      <th>Source to Destination</th>\n",
       "    </tr>\n",
       "  </thead>\n",
       "  <tbody>\n",
       "    <tr>\n",
       "      <th>0</th>\n",
       "      <td>IndiGo</td>\n",
       "      <td>Banglore</td>\n",
       "      <td>Delhi</td>\n",
       "      <td>BLR → DEL</td>\n",
       "      <td>22:20</td>\n",
       "      <td>01:10 22 Mar</td>\n",
       "      <td>2h 50m</td>\n",
       "      <td>non-stop</td>\n",
       "      <td>No info</td>\n",
       "      <td>3897</td>\n",
       "      <td>24</td>\n",
       "      <td>3</td>\n",
       "      <td>Banglore-Delhi</td>\n",
       "    </tr>\n",
       "    <tr>\n",
       "      <th>1</th>\n",
       "      <td>Air India</td>\n",
       "      <td>Kolkata</td>\n",
       "      <td>Banglore</td>\n",
       "      <td>CCU → IXR → BBI → BLR</td>\n",
       "      <td>05:50</td>\n",
       "      <td>13:15</td>\n",
       "      <td>7h 25m</td>\n",
       "      <td>2 stops</td>\n",
       "      <td>No info</td>\n",
       "      <td>7662</td>\n",
       "      <td>5</td>\n",
       "      <td>1</td>\n",
       "      <td>Kolkata-Banglore</td>\n",
       "    </tr>\n",
       "  </tbody>\n",
       "</table>\n",
       "</div>"
      ],
      "text/plain": [
       "     Airline    Source Destination                  Route Dep_Time  \\\n",
       "0     IndiGo  Banglore       Delhi              BLR → DEL    22:20   \n",
       "1  Air India   Kolkata    Banglore  CCU → IXR → BBI → BLR    05:50   \n",
       "\n",
       "   Arrival_Time Duration Total_Stops Additional_Info  Price  day  month  \\\n",
       "0  01:10 22 Mar   2h 50m    non-stop         No info   3897   24      3   \n",
       "1         13:15   7h 25m     2 stops         No info   7662    5      1   \n",
       "\n",
       "  Source to Destination  \n",
       "0        Banglore-Delhi  \n",
       "1      Kolkata-Banglore  "
      ]
     },
     "execution_count": 21,
     "metadata": {},
     "output_type": "execute_result"
    }
   ],
   "source": [
    "Airlines[\"Source to Destination\"]=Airlines[\"Source\"]+ \"-\" + Airlines[\"Destination\"]\n",
    "Airlines.head(2)"
   ]
  },
  {
   "cell_type": "markdown",
   "id": "b23b60e0",
   "metadata": {},
   "source": [
    "# Also we can drop the column of Dep_time and Arrival_Time and make one column of Time."
   ]
  },
  {
   "cell_type": "code",
   "execution_count": 22,
   "id": "9ddfb83e",
   "metadata": {},
   "outputs": [],
   "source": [
    "Airlines[\"Arrival_Time\"]=Airlines[\"Arrival_Time\"].str.replace(\"Mar\",\" \")\n",
    "Airlines[\"Arrival_Time\"]=Airlines[\"Arrival_Time\"].str.replace(\"Apr\",\" \")\n",
    "Airlines[\"Arrival_Time\"]=Airlines[\"Arrival_Time\"].str.replace(\"May\",\" \")\n",
    "Airlines[\"Arrival_Time\"]=Airlines[\"Arrival_Time\"].str.replace(\"Jun\",\" \")"
   ]
  },
  {
   "cell_type": "code",
   "execution_count": 23,
   "id": "3095ff44",
   "metadata": {},
   "outputs": [
    {
     "data": {
      "text/html": [
       "<div>\n",
       "<style scoped>\n",
       "    .dataframe tbody tr th:only-of-type {\n",
       "        vertical-align: middle;\n",
       "    }\n",
       "\n",
       "    .dataframe tbody tr th {\n",
       "        vertical-align: top;\n",
       "    }\n",
       "\n",
       "    .dataframe thead th {\n",
       "        text-align: right;\n",
       "    }\n",
       "</style>\n",
       "<table border=\"1\" class=\"dataframe\">\n",
       "  <thead>\n",
       "    <tr style=\"text-align: right;\">\n",
       "      <th></th>\n",
       "      <th>Airline</th>\n",
       "      <th>Source</th>\n",
       "      <th>Destination</th>\n",
       "      <th>Route</th>\n",
       "      <th>Dep_Time</th>\n",
       "      <th>Arrival_Time</th>\n",
       "      <th>Duration</th>\n",
       "      <th>Total_Stops</th>\n",
       "      <th>Additional_Info</th>\n",
       "      <th>Price</th>\n",
       "      <th>day</th>\n",
       "      <th>month</th>\n",
       "      <th>Source to Destination</th>\n",
       "      <th>Time</th>\n",
       "    </tr>\n",
       "  </thead>\n",
       "  <tbody>\n",
       "    <tr>\n",
       "      <th>0</th>\n",
       "      <td>IndiGo</td>\n",
       "      <td>Banglore</td>\n",
       "      <td>Delhi</td>\n",
       "      <td>BLR → DEL</td>\n",
       "      <td>22:20</td>\n",
       "      <td>01:10 22</td>\n",
       "      <td>2h 50m</td>\n",
       "      <td>non-stop</td>\n",
       "      <td>No info</td>\n",
       "      <td>3897</td>\n",
       "      <td>24</td>\n",
       "      <td>3</td>\n",
       "      <td>Banglore-Delhi</td>\n",
       "      <td>22:20---01:10 22</td>\n",
       "    </tr>\n",
       "    <tr>\n",
       "      <th>1</th>\n",
       "      <td>Air India</td>\n",
       "      <td>Kolkata</td>\n",
       "      <td>Banglore</td>\n",
       "      <td>CCU → IXR → BBI → BLR</td>\n",
       "      <td>05:50</td>\n",
       "      <td>13:15</td>\n",
       "      <td>7h 25m</td>\n",
       "      <td>2 stops</td>\n",
       "      <td>No info</td>\n",
       "      <td>7662</td>\n",
       "      <td>5</td>\n",
       "      <td>1</td>\n",
       "      <td>Kolkata-Banglore</td>\n",
       "      <td>05:50---13:15</td>\n",
       "    </tr>\n",
       "    <tr>\n",
       "      <th>2</th>\n",
       "      <td>Jet Airways</td>\n",
       "      <td>Delhi</td>\n",
       "      <td>Cochin</td>\n",
       "      <td>DEL → LKO → BOM → COK</td>\n",
       "      <td>09:25</td>\n",
       "      <td>04:25 10</td>\n",
       "      <td>19h</td>\n",
       "      <td>2 stops</td>\n",
       "      <td>No info</td>\n",
       "      <td>13882</td>\n",
       "      <td>6</td>\n",
       "      <td>9</td>\n",
       "      <td>Delhi-Cochin</td>\n",
       "      <td>09:25---04:25 10</td>\n",
       "    </tr>\n",
       "    <tr>\n",
       "      <th>3</th>\n",
       "      <td>IndiGo</td>\n",
       "      <td>Kolkata</td>\n",
       "      <td>Banglore</td>\n",
       "      <td>CCU → NAG → BLR</td>\n",
       "      <td>18:05</td>\n",
       "      <td>23:30</td>\n",
       "      <td>5h 25m</td>\n",
       "      <td>1 stop</td>\n",
       "      <td>No info</td>\n",
       "      <td>6218</td>\n",
       "      <td>5</td>\n",
       "      <td>12</td>\n",
       "      <td>Kolkata-Banglore</td>\n",
       "      <td>18:05---23:30</td>\n",
       "    </tr>\n",
       "    <tr>\n",
       "      <th>4</th>\n",
       "      <td>IndiGo</td>\n",
       "      <td>Banglore</td>\n",
       "      <td>Delhi</td>\n",
       "      <td>BLR → NAG → DEL</td>\n",
       "      <td>16:50</td>\n",
       "      <td>21:35</td>\n",
       "      <td>4h 45m</td>\n",
       "      <td>1 stop</td>\n",
       "      <td>No info</td>\n",
       "      <td>13302</td>\n",
       "      <td>3</td>\n",
       "      <td>1</td>\n",
       "      <td>Banglore-Delhi</td>\n",
       "      <td>16:50---21:35</td>\n",
       "    </tr>\n",
       "    <tr>\n",
       "      <th>...</th>\n",
       "      <td>...</td>\n",
       "      <td>...</td>\n",
       "      <td>...</td>\n",
       "      <td>...</td>\n",
       "      <td>...</td>\n",
       "      <td>...</td>\n",
       "      <td>...</td>\n",
       "      <td>...</td>\n",
       "      <td>...</td>\n",
       "      <td>...</td>\n",
       "      <td>...</td>\n",
       "      <td>...</td>\n",
       "      <td>...</td>\n",
       "      <td>...</td>\n",
       "    </tr>\n",
       "    <tr>\n",
       "      <th>10678</th>\n",
       "      <td>Air Asia</td>\n",
       "      <td>Kolkata</td>\n",
       "      <td>Banglore</td>\n",
       "      <td>CCU → BLR</td>\n",
       "      <td>19:55</td>\n",
       "      <td>22:25</td>\n",
       "      <td>2h 30m</td>\n",
       "      <td>non-stop</td>\n",
       "      <td>No info</td>\n",
       "      <td>4107</td>\n",
       "      <td>4</td>\n",
       "      <td>9</td>\n",
       "      <td>Kolkata-Banglore</td>\n",
       "      <td>19:55---22:25</td>\n",
       "    </tr>\n",
       "    <tr>\n",
       "      <th>10679</th>\n",
       "      <td>Air India</td>\n",
       "      <td>Kolkata</td>\n",
       "      <td>Banglore</td>\n",
       "      <td>CCU → BLR</td>\n",
       "      <td>20:45</td>\n",
       "      <td>23:20</td>\n",
       "      <td>2h 35m</td>\n",
       "      <td>non-stop</td>\n",
       "      <td>No info</td>\n",
       "      <td>4145</td>\n",
       "      <td>27</td>\n",
       "      <td>4</td>\n",
       "      <td>Kolkata-Banglore</td>\n",
       "      <td>20:45---23:20</td>\n",
       "    </tr>\n",
       "    <tr>\n",
       "      <th>10680</th>\n",
       "      <td>Jet Airways</td>\n",
       "      <td>Banglore</td>\n",
       "      <td>Delhi</td>\n",
       "      <td>BLR → DEL</td>\n",
       "      <td>08:20</td>\n",
       "      <td>11:20</td>\n",
       "      <td>3h</td>\n",
       "      <td>non-stop</td>\n",
       "      <td>No info</td>\n",
       "      <td>7229</td>\n",
       "      <td>27</td>\n",
       "      <td>4</td>\n",
       "      <td>Banglore-Delhi</td>\n",
       "      <td>08:20---11:20</td>\n",
       "    </tr>\n",
       "    <tr>\n",
       "      <th>10681</th>\n",
       "      <td>Vistara</td>\n",
       "      <td>Banglore</td>\n",
       "      <td>Delhi</td>\n",
       "      <td>BLR → DEL</td>\n",
       "      <td>11:30</td>\n",
       "      <td>14:10</td>\n",
       "      <td>2h 40m</td>\n",
       "      <td>non-stop</td>\n",
       "      <td>No info</td>\n",
       "      <td>12648</td>\n",
       "      <td>3</td>\n",
       "      <td>1</td>\n",
       "      <td>Banglore-Delhi</td>\n",
       "      <td>11:30---14:10</td>\n",
       "    </tr>\n",
       "    <tr>\n",
       "      <th>10682</th>\n",
       "      <td>Air India</td>\n",
       "      <td>Delhi</td>\n",
       "      <td>Cochin</td>\n",
       "      <td>DEL → GOI → BOM → COK</td>\n",
       "      <td>10:55</td>\n",
       "      <td>19:15</td>\n",
       "      <td>8h 20m</td>\n",
       "      <td>2 stops</td>\n",
       "      <td>No info</td>\n",
       "      <td>11753</td>\n",
       "      <td>5</td>\n",
       "      <td>9</td>\n",
       "      <td>Delhi-Cochin</td>\n",
       "      <td>10:55---19:15</td>\n",
       "    </tr>\n",
       "  </tbody>\n",
       "</table>\n",
       "<p>10683 rows × 14 columns</p>\n",
       "</div>"
      ],
      "text/plain": [
       "           Airline    Source Destination                  Route Dep_Time  \\\n",
       "0           IndiGo  Banglore       Delhi              BLR → DEL    22:20   \n",
       "1        Air India   Kolkata    Banglore  CCU → IXR → BBI → BLR    05:50   \n",
       "2      Jet Airways     Delhi      Cochin  DEL → LKO → BOM → COK    09:25   \n",
       "3           IndiGo   Kolkata    Banglore        CCU → NAG → BLR    18:05   \n",
       "4           IndiGo  Banglore       Delhi        BLR → NAG → DEL    16:50   \n",
       "...            ...       ...         ...                    ...      ...   \n",
       "10678     Air Asia   Kolkata    Banglore              CCU → BLR    19:55   \n",
       "10679    Air India   Kolkata    Banglore              CCU → BLR    20:45   \n",
       "10680  Jet Airways  Banglore       Delhi              BLR → DEL    08:20   \n",
       "10681      Vistara  Banglore       Delhi              BLR → DEL    11:30   \n",
       "10682    Air India     Delhi      Cochin  DEL → GOI → BOM → COK    10:55   \n",
       "\n",
       "      Arrival_Time Duration Total_Stops Additional_Info  Price  day  month  \\\n",
       "0       01:10 22     2h 50m    non-stop         No info   3897   24      3   \n",
       "1            13:15   7h 25m     2 stops         No info   7662    5      1   \n",
       "2       04:25 10        19h     2 stops         No info  13882    6      9   \n",
       "3            23:30   5h 25m      1 stop         No info   6218    5     12   \n",
       "4            21:35   4h 45m      1 stop         No info  13302    3      1   \n",
       "...            ...      ...         ...             ...    ...  ...    ...   \n",
       "10678        22:25   2h 30m    non-stop         No info   4107    4      9   \n",
       "10679        23:20   2h 35m    non-stop         No info   4145   27      4   \n",
       "10680        11:20       3h    non-stop         No info   7229   27      4   \n",
       "10681        14:10   2h 40m    non-stop         No info  12648    3      1   \n",
       "10682        19:15   8h 20m     2 stops         No info  11753    5      9   \n",
       "\n",
       "      Source to Destination                Time  \n",
       "0            Banglore-Delhi  22:20---01:10 22    \n",
       "1          Kolkata-Banglore       05:50---13:15  \n",
       "2              Delhi-Cochin  09:25---04:25 10    \n",
       "3          Kolkata-Banglore       18:05---23:30  \n",
       "4            Banglore-Delhi       16:50---21:35  \n",
       "...                     ...                 ...  \n",
       "10678      Kolkata-Banglore       19:55---22:25  \n",
       "10679      Kolkata-Banglore       20:45---23:20  \n",
       "10680        Banglore-Delhi       08:20---11:20  \n",
       "10681        Banglore-Delhi       11:30---14:10  \n",
       "10682          Delhi-Cochin       10:55---19:15  \n",
       "\n",
       "[10683 rows x 14 columns]"
      ]
     },
     "execution_count": 23,
     "metadata": {},
     "output_type": "execute_result"
    }
   ],
   "source": [
    "Airlines[\"Time\"]=Airlines[\"Dep_Time\"] + \"---\" + Airlines[\"Arrival_Time\"]\n",
    "Airlines"
   ]
  },
  {
   "cell_type": "code",
   "execution_count": 24,
   "id": "1cd1b95f",
   "metadata": {},
   "outputs": [
    {
     "data": {
      "text/html": [
       "<div>\n",
       "<style scoped>\n",
       "    .dataframe tbody tr th:only-of-type {\n",
       "        vertical-align: middle;\n",
       "    }\n",
       "\n",
       "    .dataframe tbody tr th {\n",
       "        vertical-align: top;\n",
       "    }\n",
       "\n",
       "    .dataframe thead th {\n",
       "        text-align: right;\n",
       "    }\n",
       "</style>\n",
       "<table border=\"1\" class=\"dataframe\">\n",
       "  <thead>\n",
       "    <tr style=\"text-align: right;\">\n",
       "      <th></th>\n",
       "      <th>min</th>\n",
       "      <th>max</th>\n",
       "    </tr>\n",
       "    <tr>\n",
       "      <th>Airline</th>\n",
       "      <th></th>\n",
       "      <th></th>\n",
       "    </tr>\n",
       "  </thead>\n",
       "  <tbody>\n",
       "    <tr>\n",
       "      <th>Air Asia</th>\n",
       "      <td>04:55---07:45</td>\n",
       "      <td>23:55---02:45 28</td>\n",
       "    </tr>\n",
       "    <tr>\n",
       "      <th>Air India</th>\n",
       "      <td>00:30---08:45</td>\n",
       "      <td>23:00---19:15 25</td>\n",
       "    </tr>\n",
       "    <tr>\n",
       "      <th>GoAir</th>\n",
       "      <td>05:45---13:20</td>\n",
       "      <td>23:30---07:45 25</td>\n",
       "    </tr>\n",
       "    <tr>\n",
       "      <th>IndiGo</th>\n",
       "      <td>00:25---03:15</td>\n",
       "      <td>23:30---04:35 28</td>\n",
       "    </tr>\n",
       "    <tr>\n",
       "      <th>Jet Airways</th>\n",
       "      <td>00:20---04:25 10</td>\n",
       "      <td>23:05---19:45 28</td>\n",
       "    </tr>\n",
       "    <tr>\n",
       "      <th>Jet Airways Business</th>\n",
       "      <td>05:45---10:45</td>\n",
       "      <td>20:05---04:25 07</td>\n",
       "    </tr>\n",
       "    <tr>\n",
       "      <th>Multiple carriers</th>\n",
       "      <td>00:20---07:40</td>\n",
       "      <td>19:00---01:35 28</td>\n",
       "    </tr>\n",
       "    <tr>\n",
       "      <th>Multiple carriers Premium economy</th>\n",
       "      <td>06:00---12:35</td>\n",
       "      <td>19:00---01:35 22</td>\n",
       "    </tr>\n",
       "    <tr>\n",
       "      <th>SpiceJet</th>\n",
       "      <td>05:45---07:05</td>\n",
       "      <td>22:45---00:15 28</td>\n",
       "    </tr>\n",
       "    <tr>\n",
       "      <th>Trujet</th>\n",
       "      <td>13:05---16:20</td>\n",
       "      <td>13:05---16:20</td>\n",
       "    </tr>\n",
       "    <tr>\n",
       "      <th>Vistara</th>\n",
       "      <td>06:00---09:10</td>\n",
       "      <td>21:55---22:55 07</td>\n",
       "    </tr>\n",
       "    <tr>\n",
       "      <th>Vistara Premium economy</th>\n",
       "      <td>07:05---09:20</td>\n",
       "      <td>16:00---18:35</td>\n",
       "    </tr>\n",
       "  </tbody>\n",
       "</table>\n",
       "</div>"
      ],
      "text/plain": [
       "                                                  min                 max\n",
       "Airline                                                                  \n",
       "Air Asia                                04:55---07:45  23:55---02:45 28  \n",
       "Air India                               00:30---08:45  23:00---19:15 25  \n",
       "GoAir                                   05:45---13:20  23:30---07:45 25  \n",
       "IndiGo                                  00:25---03:15  23:30---04:35 28  \n",
       "Jet Airways                        00:20---04:25 10    23:05---19:45 28  \n",
       "Jet Airways Business                    05:45---10:45  20:05---04:25 07  \n",
       "Multiple carriers                       00:20---07:40  19:00---01:35 28  \n",
       "Multiple carriers Premium economy       06:00---12:35  19:00---01:35 22  \n",
       "SpiceJet                                05:45---07:05  22:45---00:15 28  \n",
       "Trujet                                  13:05---16:20       13:05---16:20\n",
       "Vistara                                 06:00---09:10  21:55---22:55 07  \n",
       "Vistara Premium economy                 07:05---09:20       16:00---18:35"
      ]
     },
     "execution_count": 24,
     "metadata": {},
     "output_type": "execute_result"
    }
   ],
   "source": [
    "Airlines.groupby(\"Airline\")[\"Time\"].agg([\"min\",\"max\"])"
   ]
  },
  {
   "cell_type": "markdown",
   "id": "4ead546b",
   "metadata": {},
   "source": [
    "# INSIGHT-4: Dropping the uneccessary columns not required to us"
   ]
  },
  {
   "cell_type": "code",
   "execution_count": 25,
   "id": "0df1a711",
   "metadata": {},
   "outputs": [],
   "source": [
    "Airlines.drop(columns=[\"Source\", \"Destination\", \"Route\", \"Dep_Time\",\"Arrival_Time\"], inplace=True)\n"
   ]
  },
  {
   "cell_type": "code",
   "execution_count": 26,
   "id": "a928199f",
   "metadata": {},
   "outputs": [
    {
     "data": {
      "text/html": [
       "<div>\n",
       "<style scoped>\n",
       "    .dataframe tbody tr th:only-of-type {\n",
       "        vertical-align: middle;\n",
       "    }\n",
       "\n",
       "    .dataframe tbody tr th {\n",
       "        vertical-align: top;\n",
       "    }\n",
       "\n",
       "    .dataframe thead th {\n",
       "        text-align: right;\n",
       "    }\n",
       "</style>\n",
       "<table border=\"1\" class=\"dataframe\">\n",
       "  <thead>\n",
       "    <tr style=\"text-align: right;\">\n",
       "      <th></th>\n",
       "      <th>Airline</th>\n",
       "      <th>Duration</th>\n",
       "      <th>Total_Stops</th>\n",
       "      <th>Additional_Info</th>\n",
       "      <th>Price</th>\n",
       "      <th>day</th>\n",
       "      <th>month</th>\n",
       "      <th>Source to Destination</th>\n",
       "      <th>Time</th>\n",
       "    </tr>\n",
       "  </thead>\n",
       "  <tbody>\n",
       "    <tr>\n",
       "      <th>0</th>\n",
       "      <td>IndiGo</td>\n",
       "      <td>2h 50m</td>\n",
       "      <td>non-stop</td>\n",
       "      <td>No info</td>\n",
       "      <td>3897</td>\n",
       "      <td>24</td>\n",
       "      <td>3</td>\n",
       "      <td>Banglore-Delhi</td>\n",
       "      <td>22:20---01:10 22</td>\n",
       "    </tr>\n",
       "    <tr>\n",
       "      <th>1</th>\n",
       "      <td>Air India</td>\n",
       "      <td>7h 25m</td>\n",
       "      <td>2 stops</td>\n",
       "      <td>No info</td>\n",
       "      <td>7662</td>\n",
       "      <td>5</td>\n",
       "      <td>1</td>\n",
       "      <td>Kolkata-Banglore</td>\n",
       "      <td>05:50---13:15</td>\n",
       "    </tr>\n",
       "  </tbody>\n",
       "</table>\n",
       "</div>"
      ],
      "text/plain": [
       "     Airline Duration Total_Stops Additional_Info  Price  day  month  \\\n",
       "0     IndiGo   2h 50m    non-stop         No info   3897   24      3   \n",
       "1  Air India   7h 25m     2 stops         No info   7662    5      1   \n",
       "\n",
       "  Source to Destination                Time  \n",
       "0        Banglore-Delhi  22:20---01:10 22    \n",
       "1      Kolkata-Banglore       05:50---13:15  "
      ]
     },
     "execution_count": 26,
     "metadata": {},
     "output_type": "execute_result"
    }
   ],
   "source": [
    "Airlines.head(2)"
   ]
  },
  {
   "cell_type": "markdown",
   "id": "d715c143",
   "metadata": {},
   "source": [
    "# INSIGHT-5 : Findout the unique value in the Airlines column and find the price of minimum and maximum ticket offered by the Airlines?"
   ]
  },
  {
   "cell_type": "code",
   "execution_count": 27,
   "id": "3856500f",
   "metadata": {},
   "outputs": [
    {
     "data": {
      "text/plain": [
       "array(['IndiGo', 'Air India', 'Jet Airways', 'SpiceJet',\n",
       "       'Multiple carriers', 'GoAir', 'Vistara', 'Air Asia',\n",
       "       'Vistara Premium economy', 'Jet Airways Business',\n",
       "       'Multiple carriers Premium economy', 'Trujet'], dtype=object)"
      ]
     },
     "execution_count": 27,
     "metadata": {},
     "output_type": "execute_result"
    }
   ],
   "source": [
    "Airlines.Airline.unique()"
   ]
  },
  {
   "cell_type": "code",
   "execution_count": 28,
   "id": "31320fa6",
   "metadata": {},
   "outputs": [
    {
     "data": {
      "text/html": [
       "<div>\n",
       "<style scoped>\n",
       "    .dataframe tbody tr th:only-of-type {\n",
       "        vertical-align: middle;\n",
       "    }\n",
       "\n",
       "    .dataframe tbody tr th {\n",
       "        vertical-align: top;\n",
       "    }\n",
       "\n",
       "    .dataframe thead th {\n",
       "        text-align: right;\n",
       "    }\n",
       "</style>\n",
       "<table border=\"1\" class=\"dataframe\">\n",
       "  <thead>\n",
       "    <tr style=\"text-align: right;\">\n",
       "      <th></th>\n",
       "      <th>min</th>\n",
       "      <th>max</th>\n",
       "    </tr>\n",
       "    <tr>\n",
       "      <th>Airline</th>\n",
       "      <th></th>\n",
       "      <th></th>\n",
       "    </tr>\n",
       "  </thead>\n",
       "  <tbody>\n",
       "    <tr>\n",
       "      <th>Air Asia</th>\n",
       "      <td>3383</td>\n",
       "      <td>13774</td>\n",
       "    </tr>\n",
       "    <tr>\n",
       "      <th>Air India</th>\n",
       "      <td>2050</td>\n",
       "      <td>31945</td>\n",
       "    </tr>\n",
       "    <tr>\n",
       "      <th>GoAir</th>\n",
       "      <td>3398</td>\n",
       "      <td>22794</td>\n",
       "    </tr>\n",
       "    <tr>\n",
       "      <th>IndiGo</th>\n",
       "      <td>2227</td>\n",
       "      <td>22153</td>\n",
       "    </tr>\n",
       "    <tr>\n",
       "      <th>Jet Airways</th>\n",
       "      <td>1840</td>\n",
       "      <td>54826</td>\n",
       "    </tr>\n",
       "    <tr>\n",
       "      <th>Jet Airways Business</th>\n",
       "      <td>46490</td>\n",
       "      <td>79512</td>\n",
       "    </tr>\n",
       "    <tr>\n",
       "      <th>Multiple carriers</th>\n",
       "      <td>5797</td>\n",
       "      <td>36983</td>\n",
       "    </tr>\n",
       "    <tr>\n",
       "      <th>Multiple carriers Premium economy</th>\n",
       "      <td>9845</td>\n",
       "      <td>14629</td>\n",
       "    </tr>\n",
       "    <tr>\n",
       "      <th>SpiceJet</th>\n",
       "      <td>1759</td>\n",
       "      <td>23267</td>\n",
       "    </tr>\n",
       "    <tr>\n",
       "      <th>Trujet</th>\n",
       "      <td>4140</td>\n",
       "      <td>4140</td>\n",
       "    </tr>\n",
       "    <tr>\n",
       "      <th>Vistara</th>\n",
       "      <td>3687</td>\n",
       "      <td>21730</td>\n",
       "    </tr>\n",
       "    <tr>\n",
       "      <th>Vistara Premium economy</th>\n",
       "      <td>5969</td>\n",
       "      <td>11793</td>\n",
       "    </tr>\n",
       "  </tbody>\n",
       "</table>\n",
       "</div>"
      ],
      "text/plain": [
       "                                     min    max\n",
       "Airline                                        \n",
       "Air Asia                            3383  13774\n",
       "Air India                           2050  31945\n",
       "GoAir                               3398  22794\n",
       "IndiGo                              2227  22153\n",
       "Jet Airways                         1840  54826\n",
       "Jet Airways Business               46490  79512\n",
       "Multiple carriers                   5797  36983\n",
       "Multiple carriers Premium economy   9845  14629\n",
       "SpiceJet                            1759  23267\n",
       "Trujet                              4140   4140\n",
       "Vistara                             3687  21730\n",
       "Vistara Premium economy             5969  11793"
      ]
     },
     "execution_count": 28,
     "metadata": {},
     "output_type": "execute_result"
    }
   ],
   "source": [
    "Airlines.groupby(\"Airline\")[\"Price\"].agg([\"min\",\"max\"])"
   ]
  },
  {
   "cell_type": "markdown",
   "id": "c128a6bf",
   "metadata": {},
   "source": [
    "# INSIGHT-6 : Give the details of those passenger who has paid the higest and lowest price of the ticket?"
   ]
  },
  {
   "cell_type": "code",
   "execution_count": 29,
   "id": "b97a8f55",
   "metadata": {},
   "outputs": [
    {
     "data": {
      "text/html": [
       "<div>\n",
       "<style scoped>\n",
       "    .dataframe tbody tr th:only-of-type {\n",
       "        vertical-align: middle;\n",
       "    }\n",
       "\n",
       "    .dataframe tbody tr th {\n",
       "        vertical-align: top;\n",
       "    }\n",
       "\n",
       "    .dataframe thead th {\n",
       "        text-align: right;\n",
       "    }\n",
       "</style>\n",
       "<table border=\"1\" class=\"dataframe\">\n",
       "  <thead>\n",
       "    <tr style=\"text-align: right;\">\n",
       "      <th></th>\n",
       "      <th>Airline</th>\n",
       "      <th>Duration</th>\n",
       "      <th>Total_Stops</th>\n",
       "      <th>Additional_Info</th>\n",
       "      <th>Price</th>\n",
       "      <th>day</th>\n",
       "      <th>month</th>\n",
       "      <th>Source to Destination</th>\n",
       "      <th>Time</th>\n",
       "    </tr>\n",
       "  </thead>\n",
       "  <tbody>\n",
       "    <tr>\n",
       "      <th>2924</th>\n",
       "      <td>Jet Airways Business</td>\n",
       "      <td>5h 40m</td>\n",
       "      <td>1 stop</td>\n",
       "      <td>Business class</td>\n",
       "      <td>79512</td>\n",
       "      <td>3</td>\n",
       "      <td>1</td>\n",
       "      <td>Banglore-Delhi</td>\n",
       "      <td>05:45---11:25</td>\n",
       "    </tr>\n",
       "  </tbody>\n",
       "</table>\n",
       "</div>"
      ],
      "text/plain": [
       "                   Airline Duration Total_Stops Additional_Info  Price  day  \\\n",
       "2924  Jet Airways Business   5h 40m      1 stop  Business class  79512    3   \n",
       "\n",
       "      month Source to Destination           Time  \n",
       "2924      1        Banglore-Delhi  05:45---11:25  "
      ]
     },
     "execution_count": 29,
     "metadata": {},
     "output_type": "execute_result"
    }
   ],
   "source": [
    "Airlines.iloc[np.where(Airlines[\"Price\"]==max(Airlines[\"Price\"]))]"
   ]
  },
  {
   "cell_type": "code",
   "execution_count": 30,
   "id": "c0ebbfaa",
   "metadata": {},
   "outputs": [
    {
     "data": {
      "text/html": [
       "<div>\n",
       "<style scoped>\n",
       "    .dataframe tbody tr th:only-of-type {\n",
       "        vertical-align: middle;\n",
       "    }\n",
       "\n",
       "    .dataframe tbody tr th {\n",
       "        vertical-align: top;\n",
       "    }\n",
       "\n",
       "    .dataframe thead th {\n",
       "        text-align: right;\n",
       "    }\n",
       "</style>\n",
       "<table border=\"1\" class=\"dataframe\">\n",
       "  <thead>\n",
       "    <tr style=\"text-align: right;\">\n",
       "      <th></th>\n",
       "      <th>Airline</th>\n",
       "      <th>Duration</th>\n",
       "      <th>Total_Stops</th>\n",
       "      <th>Additional_Info</th>\n",
       "      <th>Price</th>\n",
       "      <th>day</th>\n",
       "      <th>month</th>\n",
       "      <th>Source to Destination</th>\n",
       "      <th>Time</th>\n",
       "    </tr>\n",
       "  </thead>\n",
       "  <tbody>\n",
       "    <tr>\n",
       "      <th>4066</th>\n",
       "      <td>SpiceJet</td>\n",
       "      <td>1h 25m</td>\n",
       "      <td>non-stop</td>\n",
       "      <td>No info</td>\n",
       "      <td>1759</td>\n",
       "      <td>21</td>\n",
       "      <td>3</td>\n",
       "      <td>Mumbai-Hyderabad</td>\n",
       "      <td>22:45---00:10 22</td>\n",
       "    </tr>\n",
       "    <tr>\n",
       "      <th>4274</th>\n",
       "      <td>SpiceJet</td>\n",
       "      <td>1h 25m</td>\n",
       "      <td>non-stop</td>\n",
       "      <td>No info</td>\n",
       "      <td>1759</td>\n",
       "      <td>27</td>\n",
       "      <td>3</td>\n",
       "      <td>Mumbai-Hyderabad</td>\n",
       "      <td>22:45---00:10 28</td>\n",
       "    </tr>\n",
       "    <tr>\n",
       "      <th>4839</th>\n",
       "      <td>SpiceJet</td>\n",
       "      <td>1h 30m</td>\n",
       "      <td>non-stop</td>\n",
       "      <td>No info</td>\n",
       "      <td>1759</td>\n",
       "      <td>4</td>\n",
       "      <td>3</td>\n",
       "      <td>Mumbai-Hyderabad</td>\n",
       "      <td>22:45---00:15 02</td>\n",
       "    </tr>\n",
       "    <tr>\n",
       "      <th>10513</th>\n",
       "      <td>SpiceJet</td>\n",
       "      <td>1h 20m</td>\n",
       "      <td>non-stop</td>\n",
       "      <td>No info</td>\n",
       "      <td>1759</td>\n",
       "      <td>27</td>\n",
       "      <td>3</td>\n",
       "      <td>Mumbai-Hyderabad</td>\n",
       "      <td>05:45---07:05</td>\n",
       "    </tr>\n",
       "  </tbody>\n",
       "</table>\n",
       "</div>"
      ],
      "text/plain": [
       "        Airline Duration Total_Stops Additional_Info  Price  day  month  \\\n",
       "4066   SpiceJet   1h 25m    non-stop         No info   1759   21      3   \n",
       "4274   SpiceJet   1h 25m    non-stop         No info   1759   27      3   \n",
       "4839   SpiceJet   1h 30m    non-stop         No info   1759    4      3   \n",
       "10513  SpiceJet   1h 20m    non-stop         No info   1759   27      3   \n",
       "\n",
       "      Source to Destination                Time  \n",
       "4066       Mumbai-Hyderabad  22:45---00:10 22    \n",
       "4274       Mumbai-Hyderabad  22:45---00:10 28    \n",
       "4839       Mumbai-Hyderabad  22:45---00:15 02    \n",
       "10513      Mumbai-Hyderabad       05:45---07:05  "
      ]
     },
     "execution_count": 30,
     "metadata": {},
     "output_type": "execute_result"
    }
   ],
   "source": [
    "Airlines.iloc[np.where(Airlines[\"Price\"]==min(Airlines[\"Price\"]))]"
   ]
  },
  {
   "cell_type": "markdown",
   "id": "cc00c38d",
   "metadata": {},
   "source": [
    "# INSIGHT-7: Find out which Airlines has maximum or minimum Source to Destination?"
   ]
  },
  {
   "cell_type": "code",
   "execution_count": 31,
   "id": "e575e338",
   "metadata": {},
   "outputs": [
    {
     "data": {
      "image/png": "[encoded data removed]",
      "text/plain": [
       "<Figure size 432x288 with 1 Axes>"
      ]
     },
     "metadata": {
      "needs_background": "light"
     },
     "output_type": "display_data"
    }
   ],
   "source": [
    "plt.bar(Airlines[\"Source to Destination\"],Airlines[\"Airline\"]);\n",
    "plt.xticks(rotation=90);"
   ]
  },
  {
   "cell_type": "markdown",
   "id": "e0a0d610",
   "metadata": {},
   "source": [
    "CONCLUSION : From the above bar chart we can conclude the following points.\n",
    "\n",
    "1. Maximum flight departured from \"Mumbai to hyderabad\" and the Airline was \"Trujet\".\n",
    "2. Minimum Flight which was departured from \"Kolkata to Banglore Airport\" and the Airline was \"Air Asia\"."
   ]
  },
  {
   "cell_type": "markdown",
   "id": "5f03689a",
   "metadata": {},
   "source": [
    "# INSIGHT-8: Findout the maximum duration and minimum duration of Airline?"
   ]
  },
  {
   "cell_type": "code",
   "execution_count": 32,
   "id": "325d20c6",
   "metadata": {},
   "outputs": [
    {
     "data": {
      "text/html": [
       "<div>\n",
       "<style scoped>\n",
       "    .dataframe tbody tr th:only-of-type {\n",
       "        vertical-align: middle;\n",
       "    }\n",
       "\n",
       "    .dataframe tbody tr th {\n",
       "        vertical-align: top;\n",
       "    }\n",
       "\n",
       "    .dataframe thead th {\n",
       "        text-align: right;\n",
       "    }\n",
       "</style>\n",
       "<table border=\"1\" class=\"dataframe\">\n",
       "  <thead>\n",
       "    <tr style=\"text-align: right;\">\n",
       "      <th></th>\n",
       "      <th>min</th>\n",
       "      <th>max</th>\n",
       "    </tr>\n",
       "    <tr>\n",
       "      <th>Airline</th>\n",
       "      <th></th>\n",
       "      <th></th>\n",
       "    </tr>\n",
       "  </thead>\n",
       "  <tbody>\n",
       "    <tr>\n",
       "      <th>Air Asia</th>\n",
       "      <td>10h 25m</td>\n",
       "      <td>9h 50m</td>\n",
       "    </tr>\n",
       "    <tr>\n",
       "      <th>Air India</th>\n",
       "      <td>10h</td>\n",
       "      <td>9h 5m</td>\n",
       "    </tr>\n",
       "    <tr>\n",
       "      <th>GoAir</th>\n",
       "      <td>2h 35m</td>\n",
       "      <td>9h 15m</td>\n",
       "    </tr>\n",
       "    <tr>\n",
       "      <th>IndiGo</th>\n",
       "      <td>10h 15m</td>\n",
       "      <td>9h 35m</td>\n",
       "    </tr>\n",
       "    <tr>\n",
       "      <th>Jet Airways</th>\n",
       "      <td>10h</td>\n",
       "      <td>9h 50m</td>\n",
       "    </tr>\n",
       "    <tr>\n",
       "      <th>Jet Airways Business</th>\n",
       "      <td>4h 40m</td>\n",
       "      <td>8h 20m</td>\n",
       "    </tr>\n",
       "    <tr>\n",
       "      <th>Multiple carriers</th>\n",
       "      <td>10h</td>\n",
       "      <td>9h 5m</td>\n",
       "    </tr>\n",
       "    <tr>\n",
       "      <th>Multiple carriers Premium economy</th>\n",
       "      <td>10h 20m</td>\n",
       "      <td>9h 30m</td>\n",
       "    </tr>\n",
       "    <tr>\n",
       "      <th>SpiceJet</th>\n",
       "      <td>1h 20m</td>\n",
       "      <td>8h 5m</td>\n",
       "    </tr>\n",
       "    <tr>\n",
       "      <th>Trujet</th>\n",
       "      <td>3h 15m</td>\n",
       "      <td>3h 15m</td>\n",
       "    </tr>\n",
       "    <tr>\n",
       "      <th>Vistara</th>\n",
       "      <td>10h 30m</td>\n",
       "      <td>8h 50m</td>\n",
       "    </tr>\n",
       "    <tr>\n",
       "      <th>Vistara Premium economy</th>\n",
       "      <td>2h 15m</td>\n",
       "      <td>2h 50m</td>\n",
       "    </tr>\n",
       "  </tbody>\n",
       "</table>\n",
       "</div>"
      ],
      "text/plain": [
       "                                       min     max\n",
       "Airline                                           \n",
       "Air Asia                           10h 25m  9h 50m\n",
       "Air India                              10h   9h 5m\n",
       "GoAir                               2h 35m  9h 15m\n",
       "IndiGo                             10h 15m  9h 35m\n",
       "Jet Airways                            10h  9h 50m\n",
       "Jet Airways Business                4h 40m  8h 20m\n",
       "Multiple carriers                      10h   9h 5m\n",
       "Multiple carriers Premium economy  10h 20m  9h 30m\n",
       "SpiceJet                            1h 20m   8h 5m\n",
       "Trujet                              3h 15m  3h 15m\n",
       "Vistara                            10h 30m  8h 50m\n",
       "Vistara Premium economy             2h 15m  2h 50m"
      ]
     },
     "execution_count": 32,
     "metadata": {},
     "output_type": "execute_result"
    }
   ],
   "source": [
    "Airlines.groupby(\"Airline\")[\"Duration\"].agg([\"min\",\"max\"])"
   ]
  },
  {
   "cell_type": "markdown",
   "id": "c87afd7d",
   "metadata": {},
   "source": [
    "# INSIGHT-9: Findout some outliers inrespect from Source to Destination according to month and day?"
   ]
  },
  {
   "cell_type": "code",
   "execution_count": 33,
   "id": "5fd10320",
   "metadata": {},
   "outputs": [
    {
     "data": {
      "image/png": "[encoded data removed]",
      "text/plain": [
       "<Figure size 720x360 with 1 Axes>"
      ]
     },
     "metadata": {
      "needs_background": "light"
     },
     "output_type": "display_data"
    }
   ],
   "source": [
    "plt.figure(figsize=(10,5))\n",
    "sns.barplot(x=\"day\",y=\"month\",data=Airlines, hue=\"Source to Destination\");"
   ]
  },
  {
   "cell_type": "markdown",
   "id": "8a8c2f00",
   "metadata": {},
   "source": [
    "Conclusion:\n",
    "    \n",
    "from the chart we can conclude that Chennai-kolkata Airport has maximum outliers."
   ]
  },
  {
   "cell_type": "markdown",
   "id": "27a68c55",
   "metadata": {},
   "source": [
    "# INSIGHT-10 : findout some outliers inrespect of the price of the Airlines?"
   ]
  },
  {
   "cell_type": "code",
   "execution_count": 34,
   "id": "6b007333",
   "metadata": {},
   "outputs": [
    {
     "data": {
      "image/png": "[encoded data removed]",
      "text/plain": [
       "<Figure size 720x360 with 1 Axes>"
      ]
     },
     "metadata": {
      "needs_background": "light"
     },
     "output_type": "display_data"
    }
   ],
   "source": [
    "plt.figure(figsize=(10,5))\n",
    "sns.boxplot(x=\"Airline\", y=\"Price\", data=Airlines);\n",
    "plt.xticks(rotation=90);"
   ]
  },
  {
   "cell_type": "markdown",
   "id": "e34e3e95",
   "metadata": {},
   "source": [
    "# INSIGHT-11: Findout the filght inrespect of their route in particular month?"
   ]
  },
  {
   "cell_type": "code",
   "execution_count": 35,
   "id": "0ba72dfb",
   "metadata": {},
   "outputs": [
    {
     "data": {
      "image/png": "[encoded data removed]",
      "text/plain": [
       "<Figure size 573.25x360 with 1 Axes>"
      ]
     },
     "metadata": {
      "needs_background": "light"
     },
     "output_type": "display_data"
    }
   ],
   "source": [
    "sns.catplot(x=\"Source to Destination\",y=\"month\", data=Airlines, hue=\"Airline\",jitter=False);\n",
    "plt.xticks(rotation=90);"
   ]
  },
  {
   "cell_type": "markdown",
   "id": "e3f0fd36",
   "metadata": {},
   "source": [
    "# FINDING OUT THE UNIQUE VALUE IN THE TOTAL STOP."
   ]
  },
  {
   "cell_type": "code",
   "execution_count": 36,
   "id": "ba91f7e7",
   "metadata": {},
   "outputs": [
    {
     "data": {
      "text/plain": [
       "array(['non-stop', '2 stops', '1 stop', '3 stops', nan, '4 stops'],\n",
       "      dtype=object)"
      ]
     },
     "execution_count": 36,
     "metadata": {},
     "output_type": "execute_result"
    }
   ],
   "source": [
    "Airlines.Total_Stops.unique()"
   ]
  },
  {
   "cell_type": "markdown",
   "id": "5d876c26",
   "metadata": {},
   "source": [
    "# FROM THE ABOVE TABLE WE CAN CHANGE 1 STOP AS 1 AND SO ON?"
   ]
  },
  {
   "cell_type": "code",
   "execution_count": 37,
   "id": "71a32d1b",
   "metadata": {},
   "outputs": [
    {
     "data": {
      "text/html": [
       "<div>\n",
       "<style scoped>\n",
       "    .dataframe tbody tr th:only-of-type {\n",
       "        vertical-align: middle;\n",
       "    }\n",
       "\n",
       "    .dataframe tbody tr th {\n",
       "        vertical-align: top;\n",
       "    }\n",
       "\n",
       "    .dataframe thead th {\n",
       "        text-align: right;\n",
       "    }\n",
       "</style>\n",
       "<table border=\"1\" class=\"dataframe\">\n",
       "  <thead>\n",
       "    <tr style=\"text-align: right;\">\n",
       "      <th></th>\n",
       "      <th>Airline</th>\n",
       "      <th>Duration</th>\n",
       "      <th>Total_Stops</th>\n",
       "      <th>Additional_Info</th>\n",
       "      <th>Price</th>\n",
       "      <th>day</th>\n",
       "      <th>month</th>\n",
       "      <th>Source to Destination</th>\n",
       "      <th>Time</th>\n",
       "    </tr>\n",
       "  </thead>\n",
       "  <tbody>\n",
       "    <tr>\n",
       "      <th>0</th>\n",
       "      <td>IndiGo</td>\n",
       "      <td>2h 50m</td>\n",
       "      <td>0</td>\n",
       "      <td>No info</td>\n",
       "      <td>3897</td>\n",
       "      <td>24</td>\n",
       "      <td>3</td>\n",
       "      <td>Banglore-Delhi</td>\n",
       "      <td>22:20---01:10 22</td>\n",
       "    </tr>\n",
       "    <tr>\n",
       "      <th>1</th>\n",
       "      <td>Air India</td>\n",
       "      <td>7h 25m</td>\n",
       "      <td>2</td>\n",
       "      <td>No info</td>\n",
       "      <td>7662</td>\n",
       "      <td>5</td>\n",
       "      <td>1</td>\n",
       "      <td>Kolkata-Banglore</td>\n",
       "      <td>05:50---13:15</td>\n",
       "    </tr>\n",
       "  </tbody>\n",
       "</table>\n",
       "</div>"
      ],
      "text/plain": [
       "     Airline Duration Total_Stops Additional_Info  Price  day  month  \\\n",
       "0     IndiGo   2h 50m           0         No info   3897   24      3   \n",
       "1  Air India   7h 25m           2         No info   7662    5      1   \n",
       "\n",
       "  Source to Destination                Time  \n",
       "0        Banglore-Delhi  22:20---01:10 22    \n",
       "1      Kolkata-Banglore       05:50---13:15  "
      ]
     },
     "execution_count": 37,
     "metadata": {},
     "output_type": "execute_result"
    }
   ],
   "source": [
    "Airlines[\"Total_Stops\"]=Airlines[\"Total_Stops\"].map({\"non-stop\":\"0\", \"1 stop\":\"1\", \"2 stops\":\"2\",\"3 stops\":\"3\",\"4 stops\":\"4\"}) \n",
    "Airlines.head(2)"
   ]
  },
  {
   "cell_type": "code",
   "execution_count": 38,
   "id": "31c24528",
   "metadata": {},
   "outputs": [
    {
     "data": {
      "image/png": "[encoded data removed]",
      "text/plain": [
       "<Figure size 360x360 with 1 Axes>"
      ]
     },
     "metadata": {
      "needs_background": "light"
     },
     "output_type": "display_data"
    }
   ],
   "source": [
    "sns.catplot(x=\"Total_Stops\",y=\"Airline\", data=Airlines,kind=\"strip\",jitter=False);\n"
   ]
  },
  {
   "cell_type": "markdown",
   "id": "8c56f527",
   "metadata": {},
   "source": [
    "# FINDING OUT THE UNIQUE VALUE IN THE ADDITIONAL INFO COLUMN."
   ]
  },
  {
   "cell_type": "code",
   "execution_count": 39,
   "id": "e04792a3",
   "metadata": {},
   "outputs": [
    {
     "data": {
      "text/plain": [
       "array(['No info', 'In-flight meal not included',\n",
       "       'No check-in baggage included', '1 Short layover', 'No Info',\n",
       "       '1 Long layover', 'Change airports', 'Business class',\n",
       "       'Red-eye flight', '2 Long layover'], dtype=object)"
      ]
     },
     "execution_count": 39,
     "metadata": {},
     "output_type": "execute_result"
    }
   ],
   "source": [
    "Airlines.Additional_Info.unique()"
   ]
  },
  {
   "cell_type": "code",
   "execution_count": 40,
   "id": "7f4fcb59",
   "metadata": {},
   "outputs": [
    {
     "data": {
      "image/png": "[encoded data removed]",
      "text/plain": [
       "<Figure size 573.25x360 with 1 Axes>"
      ]
     },
     "metadata": {
      "needs_background": "light"
     },
     "output_type": "display_data"
    }
   ],
   "source": [
    "sns.catplot(x=\"Additional_Info\",y=\"Source to Destination\", data=Airlines, hue=\"Airline\",jitter=False);\n",
    "plt.xticks(rotation=90);"
   ]
  },
  {
   "cell_type": "markdown",
   "id": "383b242b",
   "metadata": {},
   "source": [
    "# INSIGHT-12 : Findout those flight which has two long layover?"
   ]
  },
  {
   "cell_type": "code",
   "execution_count": 41,
   "id": "1d2ad4ff",
   "metadata": {},
   "outputs": [
    {
     "data": {
      "text/html": [
       "<div>\n",
       "<style scoped>\n",
       "    .dataframe tbody tr th:only-of-type {\n",
       "        vertical-align: middle;\n",
       "    }\n",
       "\n",
       "    .dataframe tbody tr th {\n",
       "        vertical-align: top;\n",
       "    }\n",
       "\n",
       "    .dataframe thead th {\n",
       "        text-align: right;\n",
       "    }\n",
       "</style>\n",
       "<table border=\"1\" class=\"dataframe\">\n",
       "  <thead>\n",
       "    <tr style=\"text-align: right;\">\n",
       "      <th></th>\n",
       "      <th>Airline</th>\n",
       "      <th>Duration</th>\n",
       "      <th>Total_Stops</th>\n",
       "      <th>Additional_Info</th>\n",
       "      <th>Price</th>\n",
       "      <th>day</th>\n",
       "      <th>month</th>\n",
       "      <th>Source to Destination</th>\n",
       "      <th>Time</th>\n",
       "    </tr>\n",
       "  </thead>\n",
       "  <tbody>\n",
       "    <tr>\n",
       "      <th>10511</th>\n",
       "      <td>Air India</td>\n",
       "      <td>26h 40m</td>\n",
       "      <td>2</td>\n",
       "      <td>2 Long layover</td>\n",
       "      <td>26480</td>\n",
       "      <td>3</td>\n",
       "      <td>1</td>\n",
       "      <td>Banglore-Delhi</td>\n",
       "      <td>06:45---09:25 02</td>\n",
       "    </tr>\n",
       "  </tbody>\n",
       "</table>\n",
       "</div>"
      ],
      "text/plain": [
       "         Airline Duration Total_Stops Additional_Info  Price  day  month  \\\n",
       "10511  Air India  26h 40m           2  2 Long layover  26480    3      1   \n",
       "\n",
       "      Source to Destination                Time  \n",
       "10511        Banglore-Delhi  06:45---09:25 02    "
      ]
     },
     "execution_count": 41,
     "metadata": {},
     "output_type": "execute_result"
    }
   ],
   "source": [
    "Airlines.iloc[np.where(Airlines[\"Additional_Info\"]==\"2 Long layover\")]"
   ]
  },
  {
   "cell_type": "code",
   "execution_count": 42,
   "id": "77cf12af",
   "metadata": {},
   "outputs": [
    {
     "data": {
      "text/html": [
       "<div>\n",
       "<style scoped>\n",
       "    .dataframe tbody tr th:only-of-type {\n",
       "        vertical-align: middle;\n",
       "    }\n",
       "\n",
       "    .dataframe tbody tr th {\n",
       "        vertical-align: top;\n",
       "    }\n",
       "\n",
       "    .dataframe thead th {\n",
       "        text-align: right;\n",
       "    }\n",
       "</style>\n",
       "<table border=\"1\" class=\"dataframe\">\n",
       "  <thead>\n",
       "    <tr style=\"text-align: right;\">\n",
       "      <th></th>\n",
       "      <th>Airline</th>\n",
       "      <th>Duration</th>\n",
       "      <th>Total_Stops</th>\n",
       "      <th>Additional_Info</th>\n",
       "      <th>Price</th>\n",
       "      <th>day</th>\n",
       "      <th>month</th>\n",
       "      <th>Source to Destination</th>\n",
       "      <th>Time</th>\n",
       "    </tr>\n",
       "  </thead>\n",
       "  <tbody>\n",
       "    <tr>\n",
       "      <th>2924</th>\n",
       "      <td>Jet Airways Business</td>\n",
       "      <td>5h 40m</td>\n",
       "      <td>1</td>\n",
       "      <td>Business class</td>\n",
       "      <td>79512</td>\n",
       "      <td>3</td>\n",
       "      <td>1</td>\n",
       "      <td>Banglore-Delhi</td>\n",
       "      <td>05:45---11:25</td>\n",
       "    </tr>\n",
       "    <tr>\n",
       "      <th>3032</th>\n",
       "      <td>Jet Airways</td>\n",
       "      <td>6h 30m</td>\n",
       "      <td>1</td>\n",
       "      <td>Business class</td>\n",
       "      <td>28097</td>\n",
       "      <td>3</td>\n",
       "      <td>1</td>\n",
       "      <td>Banglore-Delhi</td>\n",
       "      <td>05:50---12:20</td>\n",
       "    </tr>\n",
       "    <tr>\n",
       "      <th>5372</th>\n",
       "      <td>Jet Airways Business</td>\n",
       "      <td>6h 40m</td>\n",
       "      <td>1</td>\n",
       "      <td>Business class</td>\n",
       "      <td>62427</td>\n",
       "      <td>3</td>\n",
       "      <td>1</td>\n",
       "      <td>Banglore-Delhi</td>\n",
       "      <td>05:45---12:25</td>\n",
       "    </tr>\n",
       "    <tr>\n",
       "      <th>10364</th>\n",
       "      <td>Jet Airways Business</td>\n",
       "      <td>4h 40m</td>\n",
       "      <td>1</td>\n",
       "      <td>Business class</td>\n",
       "      <td>57209</td>\n",
       "      <td>3</td>\n",
       "      <td>1</td>\n",
       "      <td>Banglore-Delhi</td>\n",
       "      <td>09:45---14:25</td>\n",
       "    </tr>\n",
       "  </tbody>\n",
       "</table>\n",
       "</div>"
      ],
      "text/plain": [
       "                    Airline Duration Total_Stops Additional_Info  Price  day  \\\n",
       "2924   Jet Airways Business   5h 40m           1  Business class  79512    3   \n",
       "3032            Jet Airways   6h 30m           1  Business class  28097    3   \n",
       "5372   Jet Airways Business   6h 40m           1  Business class  62427    3   \n",
       "10364  Jet Airways Business   4h 40m           1  Business class  57209    3   \n",
       "\n",
       "       month Source to Destination           Time  \n",
       "2924       1        Banglore-Delhi  05:45---11:25  \n",
       "3032       1        Banglore-Delhi  05:50---12:20  \n",
       "5372       1        Banglore-Delhi  05:45---12:25  \n",
       "10364      1        Banglore-Delhi  09:45---14:25  "
      ]
     },
     "execution_count": 42,
     "metadata": {},
     "output_type": "execute_result"
    }
   ],
   "source": [
    "Airlines.iloc[np.where(Airlines[\"Additional_Info\"]==\"Business class\")]"
   ]
  },
  {
   "cell_type": "markdown",
   "id": "f47a5753",
   "metadata": {},
   "source": [
    "# Lets check wheather there is corelation between the price according to day and month."
   ]
  },
  {
   "cell_type": "code",
   "execution_count": 44,
   "id": "01240aa7",
   "metadata": {},
   "outputs": [],
   "source": [
    "Cor=Airlines.corr()"
   ]
  },
  {
   "cell_type": "code",
   "execution_count": 45,
   "id": "ef66ec1c",
   "metadata": {},
   "outputs": [
    {
     "data": {
      "image/png": "[encoded data removed]",
      "text/plain": [
       "<Figure size 720x360 with 2 Axes>"
      ]
     },
     "metadata": {
      "needs_background": "light"
     },
     "output_type": "display_data"
    }
   ],
   "source": [
    "plt.figure(figsize=(10,5))\n",
    "sns.heatmap(Cor,annot=True);"
   ]
  },
  {
   "cell_type": "code",
   "execution_count": 46,
   "id": "02d4c93d",
   "metadata": {},
   "outputs": [
    {
     "data": {
      "text/html": [
       "<div>\n",
       "<style scoped>\n",
       "    .dataframe tbody tr th:only-of-type {\n",
       "        vertical-align: middle;\n",
       "    }\n",
       "\n",
       "    .dataframe tbody tr th {\n",
       "        vertical-align: top;\n",
       "    }\n",
       "\n",
       "    .dataframe thead th {\n",
       "        text-align: right;\n",
       "    }\n",
       "</style>\n",
       "<table border=\"1\" class=\"dataframe\">\n",
       "  <thead>\n",
       "    <tr style=\"text-align: right;\">\n",
       "      <th></th>\n",
       "      <th>Airline</th>\n",
       "      <th>Duration</th>\n",
       "      <th>Total_Stops</th>\n",
       "      <th>Additional_Info</th>\n",
       "      <th>Price</th>\n",
       "      <th>day</th>\n",
       "      <th>month</th>\n",
       "      <th>Source to Destination</th>\n",
       "      <th>Time</th>\n",
       "    </tr>\n",
       "  </thead>\n",
       "  <tbody>\n",
       "    <tr>\n",
       "      <th>0</th>\n",
       "      <td>IndiGo</td>\n",
       "      <td>2h 50m</td>\n",
       "      <td>0</td>\n",
       "      <td>No info</td>\n",
       "      <td>3897</td>\n",
       "      <td>24</td>\n",
       "      <td>3</td>\n",
       "      <td>Banglore-Delhi</td>\n",
       "      <td>22:20---01:10 22</td>\n",
       "    </tr>\n",
       "    <tr>\n",
       "      <th>1</th>\n",
       "      <td>Air India</td>\n",
       "      <td>7h 25m</td>\n",
       "      <td>2</td>\n",
       "      <td>No info</td>\n",
       "      <td>7662</td>\n",
       "      <td>5</td>\n",
       "      <td>1</td>\n",
       "      <td>Kolkata-Banglore</td>\n",
       "      <td>05:50---13:15</td>\n",
       "    </tr>\n",
       "    <tr>\n",
       "      <th>2</th>\n",
       "      <td>Jet Airways</td>\n",
       "      <td>19h</td>\n",
       "      <td>2</td>\n",
       "      <td>No info</td>\n",
       "      <td>13882</td>\n",
       "      <td>6</td>\n",
       "      <td>9</td>\n",
       "      <td>Delhi-Cochin</td>\n",
       "      <td>09:25---04:25 10</td>\n",
       "    </tr>\n",
       "    <tr>\n",
       "      <th>3</th>\n",
       "      <td>IndiGo</td>\n",
       "      <td>5h 25m</td>\n",
       "      <td>1</td>\n",
       "      <td>No info</td>\n",
       "      <td>6218</td>\n",
       "      <td>5</td>\n",
       "      <td>12</td>\n",
       "      <td>Kolkata-Banglore</td>\n",
       "      <td>18:05---23:30</td>\n",
       "    </tr>\n",
       "    <tr>\n",
       "      <th>4</th>\n",
       "      <td>IndiGo</td>\n",
       "      <td>4h 45m</td>\n",
       "      <td>1</td>\n",
       "      <td>No info</td>\n",
       "      <td>13302</td>\n",
       "      <td>3</td>\n",
       "      <td>1</td>\n",
       "      <td>Banglore-Delhi</td>\n",
       "      <td>16:50---21:35</td>\n",
       "    </tr>\n",
       "  </tbody>\n",
       "</table>\n",
       "</div>"
      ],
      "text/plain": [
       "       Airline Duration Total_Stops Additional_Info  Price  day  month  \\\n",
       "0       IndiGo   2h 50m           0         No info   3897   24      3   \n",
       "1    Air India   7h 25m           2         No info   7662    5      1   \n",
       "2  Jet Airways      19h           2         No info  13882    6      9   \n",
       "3       IndiGo   5h 25m           1         No info   6218    5     12   \n",
       "4       IndiGo   4h 45m           1         No info  13302    3      1   \n",
       "\n",
       "  Source to Destination                Time  \n",
       "0        Banglore-Delhi  22:20---01:10 22    \n",
       "1      Kolkata-Banglore       05:50---13:15  \n",
       "2          Delhi-Cochin  09:25---04:25 10    \n",
       "3      Kolkata-Banglore       18:05---23:30  \n",
       "4        Banglore-Delhi       16:50---21:35  "
      ]
     },
     "execution_count": 46,
     "metadata": {},
     "output_type": "execute_result"
    }
   ],
   "source": [
    "Airlines.head(5)"
   ]
  },
  {
   "cell_type": "markdown",
   "id": "94afcd8b",
   "metadata": {},
   "source": [
    "# Check the degree of Independence wheather Airlines selection depends on where person is going?"
   ]
  },
  {
   "cell_type": "code",
   "execution_count": 47,
   "id": "62b1d018",
   "metadata": {},
   "outputs": [
    {
     "data": {
      "text/html": [
       "<div>\n",
       "<style scoped>\n",
       "    .dataframe tbody tr th:only-of-type {\n",
       "        vertical-align: middle;\n",
       "    }\n",
       "\n",
       "    .dataframe tbody tr th {\n",
       "        vertical-align: top;\n",
       "    }\n",
       "\n",
       "    .dataframe thead th {\n",
       "        text-align: right;\n",
       "    }\n",
       "</style>\n",
       "<table border=\"1\" class=\"dataframe\">\n",
       "  <thead>\n",
       "    <tr style=\"text-align: right;\">\n",
       "      <th>Source to Destination</th>\n",
       "      <th>Banglore-Delhi</th>\n",
       "      <th>Chennai-Kolkata</th>\n",
       "      <th>Delhi-Cochin</th>\n",
       "      <th>Kolkata-Banglore</th>\n",
       "      <th>Mumbai-Hyderabad</th>\n",
       "    </tr>\n",
       "    <tr>\n",
       "      <th>Airline</th>\n",
       "      <th></th>\n",
       "      <th></th>\n",
       "      <th></th>\n",
       "      <th></th>\n",
       "      <th></th>\n",
       "    </tr>\n",
       "  </thead>\n",
       "  <tbody>\n",
       "    <tr>\n",
       "      <th>Air Asia</th>\n",
       "      <td>89</td>\n",
       "      <td>0</td>\n",
       "      <td>80</td>\n",
       "      <td>150</td>\n",
       "      <td>0</td>\n",
       "    </tr>\n",
       "    <tr>\n",
       "      <th>Air India</th>\n",
       "      <td>332</td>\n",
       "      <td>25</td>\n",
       "      <td>747</td>\n",
       "      <td>512</td>\n",
       "      <td>136</td>\n",
       "    </tr>\n",
       "    <tr>\n",
       "      <th>GoAir</th>\n",
       "      <td>93</td>\n",
       "      <td>0</td>\n",
       "      <td>76</td>\n",
       "      <td>25</td>\n",
       "      <td>0</td>\n",
       "    </tr>\n",
       "    <tr>\n",
       "      <th>IndiGo</th>\n",
       "      <td>523</td>\n",
       "      <td>184</td>\n",
       "      <td>705</td>\n",
       "      <td>445</td>\n",
       "      <td>196</td>\n",
       "    </tr>\n",
       "    <tr>\n",
       "      <th>Jet Airways</th>\n",
       "      <td>788</td>\n",
       "      <td>0</td>\n",
       "      <td>1586</td>\n",
       "      <td>1256</td>\n",
       "      <td>219</td>\n",
       "    </tr>\n",
       "    <tr>\n",
       "      <th>Jet Airways Business</th>\n",
       "      <td>4</td>\n",
       "      <td>0</td>\n",
       "      <td>2</td>\n",
       "      <td>0</td>\n",
       "      <td>0</td>\n",
       "    </tr>\n",
       "    <tr>\n",
       "      <th>Multiple carriers</th>\n",
       "      <td>0</td>\n",
       "      <td>0</td>\n",
       "      <td>1196</td>\n",
       "      <td>0</td>\n",
       "      <td>0</td>\n",
       "    </tr>\n",
       "    <tr>\n",
       "      <th>Multiple carriers Premium economy</th>\n",
       "      <td>0</td>\n",
       "      <td>0</td>\n",
       "      <td>13</td>\n",
       "      <td>0</td>\n",
       "      <td>0</td>\n",
       "    </tr>\n",
       "    <tr>\n",
       "      <th>SpiceJet</th>\n",
       "      <td>181</td>\n",
       "      <td>128</td>\n",
       "      <td>87</td>\n",
       "      <td>300</td>\n",
       "      <td>122</td>\n",
       "    </tr>\n",
       "    <tr>\n",
       "      <th>Trujet</th>\n",
       "      <td>0</td>\n",
       "      <td>0</td>\n",
       "      <td>0</td>\n",
       "      <td>0</td>\n",
       "      <td>1</td>\n",
       "    </tr>\n",
       "    <tr>\n",
       "      <th>Vistara</th>\n",
       "      <td>185</td>\n",
       "      <td>43</td>\n",
       "      <td>45</td>\n",
       "      <td>183</td>\n",
       "      <td>23</td>\n",
       "    </tr>\n",
       "    <tr>\n",
       "      <th>Vistara Premium economy</th>\n",
       "      <td>2</td>\n",
       "      <td>1</td>\n",
       "      <td>0</td>\n",
       "      <td>0</td>\n",
       "      <td>0</td>\n",
       "    </tr>\n",
       "  </tbody>\n",
       "</table>\n",
       "</div>"
      ],
      "text/plain": [
       "Source to Destination              Banglore-Delhi  Chennai-Kolkata  \\\n",
       "Airline                                                              \n",
       "Air Asia                                       89                0   \n",
       "Air India                                     332               25   \n",
       "GoAir                                          93                0   \n",
       "IndiGo                                        523              184   \n",
       "Jet Airways                                   788                0   \n",
       "Jet Airways Business                            4                0   \n",
       "Multiple carriers                               0                0   \n",
       "Multiple carriers Premium economy               0                0   \n",
       "SpiceJet                                      181              128   \n",
       "Trujet                                          0                0   \n",
       "Vistara                                       185               43   \n",
       "Vistara Premium economy                         2                1   \n",
       "\n",
       "Source to Destination              Delhi-Cochin  Kolkata-Banglore  \\\n",
       "Airline                                                             \n",
       "Air Asia                                     80               150   \n",
       "Air India                                   747               512   \n",
       "GoAir                                        76                25   \n",
       "IndiGo                                      705               445   \n",
       "Jet Airways                                1586              1256   \n",
       "Jet Airways Business                          2                 0   \n",
       "Multiple carriers                          1196                 0   \n",
       "Multiple carriers Premium economy            13                 0   \n",
       "SpiceJet                                     87               300   \n",
       "Trujet                                        0                 0   \n",
       "Vistara                                      45               183   \n",
       "Vistara Premium economy                       0                 0   \n",
       "\n",
       "Source to Destination              Mumbai-Hyderabad  \n",
       "Airline                                              \n",
       "Air Asia                                          0  \n",
       "Air India                                       136  \n",
       "GoAir                                             0  \n",
       "IndiGo                                          196  \n",
       "Jet Airways                                     219  \n",
       "Jet Airways Business                              0  \n",
       "Multiple carriers                                 0  \n",
       "Multiple carriers Premium economy                 0  \n",
       "SpiceJet                                        122  \n",
       "Trujet                                            1  \n",
       "Vistara                                          23  \n",
       "Vistara Premium economy                           0  "
      ]
     },
     "execution_count": 47,
     "metadata": {},
     "output_type": "execute_result"
    }
   ],
   "source": [
    "Obs_table=pd.crosstab(Airlines[\"Airline\"],Airlines[\"Source to Destination\"])\n",
    "Obs_table"
   ]
  },
  {
   "cell_type": "code",
   "execution_count": 49,
   "id": "cf9e088d",
   "metadata": {},
   "outputs": [
    {
     "name": "stdout",
     "output_type": "stream",
     "text": [
      "Reject null hypothesis which means they are independent to one another. \n"
     ]
    }
   ],
   "source": [
    "v=st.chi2_contingency(Obs_table)\n",
    "if v[1]<0.05:\n",
    "    print(\"Reject null hypothesis which means they are independent to one another. \")\n",
    "    \n",
    "else:\n",
    "    print(\"Accept null hypothesis which means they are dependent to one another. \")"
   ]
  },
  {
   "cell_type": "markdown",
   "id": "b8e430ab",
   "metadata": {},
   "source": [
    "# FINAL INSIGHT: CHECK THE AVAILABILITY OR NUMBER OF FLIGHT?"
   ]
  },
  {
   "cell_type": "code",
   "execution_count": 50,
   "id": "1f747246",
   "metadata": {},
   "outputs": [
    {
     "data": {
      "text/plain": [
       "Source to Destination  Airline                          \n",
       "Banglore-Delhi         Jet Airways                           788\n",
       "                       IndiGo                                523\n",
       "                       Air India                             332\n",
       "                       Vistara                               185\n",
       "                       SpiceJet                              181\n",
       "                       GoAir                                  93\n",
       "                       Air Asia                               89\n",
       "                       Jet Airways Business                    4\n",
       "                       Vistara Premium economy                 2\n",
       "Chennai-Kolkata        IndiGo                                184\n",
       "                       SpiceJet                              128\n",
       "                       Vistara                                43\n",
       "                       Air India                              25\n",
       "                       Vistara Premium economy                 1\n",
       "Delhi-Cochin           Jet Airways                          1586\n",
       "                       Multiple carriers                    1196\n",
       "                       Air India                             747\n",
       "                       IndiGo                                705\n",
       "                       SpiceJet                               87\n",
       "                       Air Asia                               80\n",
       "                       GoAir                                  76\n",
       "                       Vistara                                45\n",
       "                       Multiple carriers Premium economy      13\n",
       "                       Jet Airways Business                    2\n",
       "Kolkata-Banglore       Jet Airways                          1256\n",
       "                       Air India                             512\n",
       "                       IndiGo                                445\n",
       "                       SpiceJet                              300\n",
       "                       Vistara                               183\n",
       "                       Air Asia                              150\n",
       "                       GoAir                                  25\n",
       "Mumbai-Hyderabad       Jet Airways                           219\n",
       "                       IndiGo                                196\n",
       "                       Air India                             136\n",
       "                       SpiceJet                              122\n",
       "                       Vistara                                23\n",
       "                       Trujet                                  1\n",
       "Name: Airline, dtype: int64"
      ]
     },
     "execution_count": 50,
     "metadata": {},
     "output_type": "execute_result"
    }
   ],
   "source": [
    "df=Airlines.groupby([\"Source to Destination\"])[\"Airline\"].value_counts()\n",
    "df"
   ]
  }
 ],
 "metadata": {
  "kernelspec": {
   "display_name": "Python 3 (ipykernel)",
   "language": "python",
   "name": "python3"
  },
  "language_info": {
   "codemirror_mode": {
    "name": "ipython",
    "version": 3
   },
   "file_extension": ".py",
   "mimetype": "text/x-python",
   "name": "python",
   "nbconvert_exporter": "python",
   "pygments_lexer": "ipython3",
   "version": "3.10.2"
  }
 },
 "nbformat": 4,
 "nbformat_minor": 5
}
